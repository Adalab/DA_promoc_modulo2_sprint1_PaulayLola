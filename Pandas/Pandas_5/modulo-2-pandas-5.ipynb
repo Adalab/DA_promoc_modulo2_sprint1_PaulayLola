{
 "cells": [
  {
   "cell_type": "code",
   "execution_count": 1,
   "metadata": {},
   "outputs": [],
   "source": [
    "import pandas as pd"
   ]
  },
  {
   "attachments": {},
   "cell_type": "markdown",
   "metadata": {},
   "source": [
    "1. Cargad los tres ficheros nombrados anteriormente y los exploramos para familizarizarnos con ellos y saber que información tienen en común y debatir con tu compañera como podríamos juntar toda la información."
   ]
  },
  {
   "cell_type": "code",
   "execution_count": 2,
   "metadata": {},
   "outputs": [
    {
     "data": {
      "text/html": [
       "<div>\n",
       "<style scoped>\n",
       "    .dataframe tbody tr th:only-of-type {\n",
       "        vertical-align: middle;\n",
       "    }\n",
       "\n",
       "    .dataframe tbody tr th {\n",
       "        vertical-align: top;\n",
       "    }\n",
       "\n",
       "    .dataframe thead th {\n",
       "        text-align: right;\n",
       "    }\n",
       "</style>\n",
       "<table border=\"1\" class=\"dataframe\">\n",
       "  <thead>\n",
       "    <tr style=\"text-align: right;\">\n",
       "      <th></th>\n",
       "      <th>Case Number</th>\n",
       "      <th>Fatal (Y/N)</th>\n",
       "      <th>Injury</th>\n",
       "      <th>Date</th>\n",
       "    </tr>\n",
       "  </thead>\n",
       "  <tbody>\n",
       "    <tr>\n",
       "      <th>0</th>\n",
       "      <td>2018.06.25</td>\n",
       "      <td>N</td>\n",
       "      <td>No injury to occupant, outrigger canoe and pad...</td>\n",
       "      <td>25-Jun-2018</td>\n",
       "    </tr>\n",
       "    <tr>\n",
       "      <th>1</th>\n",
       "      <td>2018.06.18</td>\n",
       "      <td>N</td>\n",
       "      <td>Minor injury to left thigh</td>\n",
       "      <td>18-Jun-2018</td>\n",
       "    </tr>\n",
       "    <tr>\n",
       "      <th>2</th>\n",
       "      <td>2018.06.09</td>\n",
       "      <td>N</td>\n",
       "      <td>Injury to left lower leg from surfboard skeg</td>\n",
       "      <td>09-Jun-2018</td>\n",
       "    </tr>\n",
       "    <tr>\n",
       "      <th>3</th>\n",
       "      <td>2018.06.08</td>\n",
       "      <td>N</td>\n",
       "      <td>Minor injury to lower leg</td>\n",
       "      <td>08-Jun-2018</td>\n",
       "    </tr>\n",
       "    <tr>\n",
       "      <th>4</th>\n",
       "      <td>2018.06.04</td>\n",
       "      <td>N</td>\n",
       "      <td>Lacerations to leg &amp; hand shark PROVOKED INCIDENT</td>\n",
       "      <td>04-Jun-2018</td>\n",
       "    </tr>\n",
       "  </tbody>\n",
       "</table>\n",
       "</div>"
      ],
      "text/plain": [
       "  Case Number Fatal (Y/N)                                             Injury  \\\n",
       "0  2018.06.25           N  No injury to occupant, outrigger canoe and pad...   \n",
       "1  2018.06.18           N                         Minor injury to left thigh   \n",
       "2  2018.06.09           N       Injury to left lower leg from surfboard skeg   \n",
       "3  2018.06.08           N                          Minor injury to lower leg   \n",
       "4  2018.06.04           N  Lacerations to leg & hand shark PROVOKED INCIDENT   \n",
       "\n",
       "          Date  \n",
       "0  25-Jun-2018  \n",
       "1  18-Jun-2018  \n",
       "2  09-Jun-2018  \n",
       "3  08-Jun-2018  \n",
       "4  04-Jun-2018  "
      ]
     },
     "execution_count": 2,
     "metadata": {},
     "output_type": "execute_result"
    }
   ],
   "source": [
    "adicional = pd.read_csv('attacks_adicional.csv', index_col = 0)\n",
    "adicional.head()"
   ]
  },
  {
   "cell_type": "code",
   "execution_count": 3,
   "metadata": {},
   "outputs": [
    {
     "data": {
      "text/plain": [
       "Index(['Case Number', 'Fatal (Y/N)', 'Injury', 'Date'], dtype='object')"
      ]
     },
     "execution_count": 3,
     "metadata": {},
     "output_type": "execute_result"
    }
   ],
   "source": [
    "adicional.columns"
   ]
  },
  {
   "cell_type": "code",
   "execution_count": 4,
   "metadata": {},
   "outputs": [
    {
     "data": {
      "text/html": [
       "<div>\n",
       "<style scoped>\n",
       "    .dataframe tbody tr th:only-of-type {\n",
       "        vertical-align: middle;\n",
       "    }\n",
       "\n",
       "    .dataframe tbody tr th {\n",
       "        vertical-align: top;\n",
       "    }\n",
       "\n",
       "    .dataframe thead th {\n",
       "        text-align: right;\n",
       "    }\n",
       "</style>\n",
       "<table border=\"1\" class=\"dataframe\">\n",
       "  <thead>\n",
       "    <tr style=\"text-align: right;\">\n",
       "      <th></th>\n",
       "      <th>Case Number</th>\n",
       "      <th>Year</th>\n",
       "      <th>Type</th>\n",
       "      <th>Country</th>\n",
       "      <th>Area</th>\n",
       "      <th>Location</th>\n",
       "      <th>Activity</th>\n",
       "      <th>Name</th>\n",
       "      <th>Sex</th>\n",
       "      <th>Age</th>\n",
       "      <th>...</th>\n",
       "      <th>Species</th>\n",
       "      <th>Investigator or Source</th>\n",
       "      <th>pdf</th>\n",
       "      <th>href formula</th>\n",
       "      <th>href</th>\n",
       "      <th>Case Number.1</th>\n",
       "      <th>Case Number.2</th>\n",
       "      <th>original order</th>\n",
       "      <th>Unnamed: 22</th>\n",
       "      <th>Unnamed: 23</th>\n",
       "    </tr>\n",
       "  </thead>\n",
       "  <tbody>\n",
       "    <tr>\n",
       "      <th>6132</th>\n",
       "      <td>1800.00.00</td>\n",
       "      <td>1800.0</td>\n",
       "      <td>Unprovoked</td>\n",
       "      <td>SEYCHELLES</td>\n",
       "      <td>St. Anne</td>\n",
       "      <td>NaN</td>\n",
       "      <td>a corsair's boat was overturned</td>\n",
       "      <td>NaN</td>\n",
       "      <td>F</td>\n",
       "      <td>NaN</td>\n",
       "      <td>...</td>\n",
       "      <td>NaN</td>\n",
       "      <td>V. C. Harvey-Brain</td>\n",
       "      <td>1800.00.00-Corsair-boat.pdf</td>\n",
       "      <td>http://sharkattackfile.net/spreadsheets/pdf_di...</td>\n",
       "      <td>http://sharkattackfile.net/spreadsheets/pdf_di...</td>\n",
       "      <td>1800.00.00</td>\n",
       "      <td>1800.00.00</td>\n",
       "      <td>171.0</td>\n",
       "      <td>NaN</td>\n",
       "      <td>NaN</td>\n",
       "    </tr>\n",
       "    <tr>\n",
       "      <th>6133</th>\n",
       "      <td>1797.05.28.R</td>\n",
       "      <td>1797.0</td>\n",
       "      <td>Unprovoked</td>\n",
       "      <td>NaN</td>\n",
       "      <td>NaN</td>\n",
       "      <td>NaN</td>\n",
       "      <td>Dropped overboard</td>\n",
       "      <td>child</td>\n",
       "      <td>NaN</td>\n",
       "      <td>NaN</td>\n",
       "      <td>...</td>\n",
       "      <td>NaN</td>\n",
       "      <td>The Observer 5/28/1797</td>\n",
       "      <td>1797.05.28.R-Cloverdale.pdf</td>\n",
       "      <td>http://sharkattackfile.net/spreadsheets/pdf_di...</td>\n",
       "      <td>http://sharkattackfile.net/spreadsheets/pdf_di...</td>\n",
       "      <td>1797.05.28.R</td>\n",
       "      <td>1797.05.28.R</td>\n",
       "      <td>170.0</td>\n",
       "      <td>NaN</td>\n",
       "      <td>NaN</td>\n",
       "    </tr>\n",
       "  </tbody>\n",
       "</table>\n",
       "<p>2 rows × 21 columns</p>\n",
       "</div>"
      ],
      "text/plain": [
       "       Case Number    Year        Type     Country      Area Location  \\\n",
       "6132    1800.00.00  1800.0  Unprovoked  SEYCHELLES  St. Anne      NaN   \n",
       "6133  1797.05.28.R  1797.0  Unprovoked         NaN       NaN      NaN   \n",
       "\n",
       "                             Activity   Name Sex   Age  ... Species   \\\n",
       "6132  a corsair's boat was overturned    NaN    F  NaN  ...      NaN   \n",
       "6133                Dropped overboard  child  NaN  NaN  ...      NaN   \n",
       "\n",
       "      Investigator or Source                          pdf  \\\n",
       "6132      V. C. Harvey-Brain  1800.00.00-Corsair-boat.pdf   \n",
       "6133  The Observer 5/28/1797  1797.05.28.R-Cloverdale.pdf   \n",
       "\n",
       "                                           href formula  \\\n",
       "6132  http://sharkattackfile.net/spreadsheets/pdf_di...   \n",
       "6133  http://sharkattackfile.net/spreadsheets/pdf_di...   \n",
       "\n",
       "                                                   href Case Number.1  \\\n",
       "6132  http://sharkattackfile.net/spreadsheets/pdf_di...    1800.00.00   \n",
       "6133  http://sharkattackfile.net/spreadsheets/pdf_di...  1797.05.28.R   \n",
       "\n",
       "     Case Number.2 original order  Unnamed: 22  Unnamed: 23  \n",
       "6132    1800.00.00          171.0          NaN          NaN  \n",
       "6133  1797.05.28.R          170.0          NaN          NaN  \n",
       "\n",
       "[2 rows x 21 columns]"
      ]
     },
     "execution_count": 4,
     "metadata": {},
     "output_type": "execute_result"
    }
   ],
   "source": [
    "historico = pd.read_csv('attacks_historico.csv',index_col=0)\n",
    "historico.head(2)"
   ]
  },
  {
   "cell_type": "code",
   "execution_count": 5,
   "metadata": {},
   "outputs": [
    {
     "data": {
      "text/plain": [
       "Index(['Case Number', 'Year', 'Type', 'Country', 'Area', 'Location',\n",
       "       'Activity', 'Name', 'Sex ', 'Age', 'Time', 'Species ',\n",
       "       'Investigator or Source', 'pdf', 'href formula', 'href',\n",
       "       'Case Number.1', 'Case Number.2', 'original order', 'Unnamed: 22',\n",
       "       'Unnamed: 23'],\n",
       "      dtype='object')"
      ]
     },
     "execution_count": 5,
     "metadata": {},
     "output_type": "execute_result"
    }
   ],
   "source": [
    "historico.columns"
   ]
  },
  {
   "cell_type": "code",
   "execution_count": 6,
   "metadata": {},
   "outputs": [
    {
     "data": {
      "text/html": [
       "<div>\n",
       "<style scoped>\n",
       "    .dataframe tbody tr th:only-of-type {\n",
       "        vertical-align: middle;\n",
       "    }\n",
       "\n",
       "    .dataframe tbody tr th {\n",
       "        vertical-align: top;\n",
       "    }\n",
       "\n",
       "    .dataframe thead th {\n",
       "        text-align: right;\n",
       "    }\n",
       "</style>\n",
       "<table border=\"1\" class=\"dataframe\">\n",
       "  <thead>\n",
       "    <tr style=\"text-align: right;\">\n",
       "      <th></th>\n",
       "      <th>year</th>\n",
       "      <th>type</th>\n",
       "      <th>country</th>\n",
       "      <th>area</th>\n",
       "      <th>location</th>\n",
       "      <th>activity</th>\n",
       "      <th>name</th>\n",
       "      <th>sex_</th>\n",
       "      <th>age</th>\n",
       "      <th>time</th>\n",
       "      <th>species_</th>\n",
       "      <th>href</th>\n",
       "      <th>siglo</th>\n",
       "    </tr>\n",
       "    <tr>\n",
       "      <th>case_number</th>\n",
       "      <th></th>\n",
       "      <th></th>\n",
       "      <th></th>\n",
       "      <th></th>\n",
       "      <th></th>\n",
       "      <th></th>\n",
       "      <th></th>\n",
       "      <th></th>\n",
       "      <th></th>\n",
       "      <th></th>\n",
       "      <th></th>\n",
       "      <th></th>\n",
       "      <th></th>\n",
       "    </tr>\n",
       "  </thead>\n",
       "  <tbody>\n",
       "    <tr>\n",
       "      <th>2018.06.25</th>\n",
       "      <td>2018.0</td>\n",
       "      <td>Boating</td>\n",
       "      <td>USA</td>\n",
       "      <td>California</td>\n",
       "      <td>Oceanside, San Diego County</td>\n",
       "      <td>Paddling</td>\n",
       "      <td>Julie Wolfe</td>\n",
       "      <td>F</td>\n",
       "      <td>57</td>\n",
       "      <td>18h00</td>\n",
       "      <td>White shark</td>\n",
       "      <td>http://sharkattackfile.net/spreadsheets/pdf_di...</td>\n",
       "      <td>siglo-XXI</td>\n",
       "    </tr>\n",
       "    <tr>\n",
       "      <th>2018.06.03.a</th>\n",
       "      <td>2018.0</td>\n",
       "      <td>Unprovoked</td>\n",
       "      <td>BRAZIL</td>\n",
       "      <td>Pernambuco</td>\n",
       "      <td>Piedade Beach, Recife</td>\n",
       "      <td>Swimming</td>\n",
       "      <td>Jose Ernesto da Silva</td>\n",
       "      <td>M</td>\n",
       "      <td>18</td>\n",
       "      <td>Late afternoon</td>\n",
       "      <td>Tiger shark</td>\n",
       "      <td>http://sharkattackfile.net/spreadsheets/pdf_di...</td>\n",
       "      <td>siglo-XXI</td>\n",
       "    </tr>\n",
       "  </tbody>\n",
       "</table>\n",
       "</div>"
      ],
      "text/plain": [
       "                year        type country        area  \\\n",
       "case_number                                            \n",
       "2018.06.25    2018.0     Boating     USA  California   \n",
       "2018.06.03.a  2018.0  Unprovoked  BRAZIL  Pernambuco   \n",
       "\n",
       "                                 location  activity                    name  \\\n",
       "case_number                                                                   \n",
       "2018.06.25    Oceanside, San Diego County  Paddling             Julie Wolfe   \n",
       "2018.06.03.a        Piedade Beach, Recife  Swimming  Jose Ernesto da Silva    \n",
       "\n",
       "             sex_ age            time     species_  \\\n",
       "case_number                                          \n",
       "2018.06.25      F  57           18h00  White shark   \n",
       "2018.06.03.a    M  18  Late afternoon  Tiger shark   \n",
       "\n",
       "                                                           href      siglo  \n",
       "case_number                                                                 \n",
       "2018.06.25    http://sharkattackfile.net/spreadsheets/pdf_di...  siglo-XXI  \n",
       "2018.06.03.a  http://sharkattackfile.net/spreadsheets/pdf_di...  siglo-XXI  "
      ]
     },
     "execution_count": 6,
     "metadata": {},
     "output_type": "execute_result"
    }
   ],
   "source": [
    "attacks4 = pd.read_csv('attacks_pandas4.csv', index_col = 0)\n",
    "attacks4.head(2)"
   ]
  },
  {
   "cell_type": "code",
   "execution_count": 7,
   "metadata": {},
   "outputs": [
    {
     "data": {
      "text/plain": [
       "Index(['year', 'type', 'country', 'area', 'location', 'activity', 'name',\n",
       "       'sex_', 'age', 'time', 'species_', 'href', 'siglo'],\n",
       "      dtype='object')"
      ]
     },
     "execution_count": 7,
     "metadata": {},
     "output_type": "execute_result"
    }
   ],
   "source": [
    "attacks4.columns\n"
   ]
  },
  {
   "attachments": {},
   "cell_type": "markdown",
   "metadata": {},
   "source": [
    "2. Chequead que los nombres de las columnas ver si se llaman iguales entre dataframes . ¿Están todas en minúsculas? ¿Tienen espacios? En caso de que no sean todas iguales unificad el nombre de las columnas."
   ]
  },
  {
   "cell_type": "code",
   "execution_count": 8,
   "metadata": {},
   "outputs": [
    {
     "data": {
      "text/html": [
       "<div>\n",
       "<style scoped>\n",
       "    .dataframe tbody tr th:only-of-type {\n",
       "        vertical-align: middle;\n",
       "    }\n",
       "\n",
       "    .dataframe tbody tr th {\n",
       "        vertical-align: top;\n",
       "    }\n",
       "\n",
       "    .dataframe thead th {\n",
       "        text-align: right;\n",
       "    }\n",
       "</style>\n",
       "<table border=\"1\" class=\"dataframe\">\n",
       "  <thead>\n",
       "    <tr style=\"text-align: right;\">\n",
       "      <th></th>\n",
       "      <th>case_number</th>\n",
       "      <th>fatal_(y/n)</th>\n",
       "      <th>injury</th>\n",
       "      <th>date</th>\n",
       "    </tr>\n",
       "  </thead>\n",
       "  <tbody>\n",
       "    <tr>\n",
       "      <th>0</th>\n",
       "      <td>2018.06.25</td>\n",
       "      <td>N</td>\n",
       "      <td>No injury to occupant, outrigger canoe and pad...</td>\n",
       "      <td>25-Jun-2018</td>\n",
       "    </tr>\n",
       "    <tr>\n",
       "      <th>1</th>\n",
       "      <td>2018.06.18</td>\n",
       "      <td>N</td>\n",
       "      <td>Minor injury to left thigh</td>\n",
       "      <td>18-Jun-2018</td>\n",
       "    </tr>\n",
       "  </tbody>\n",
       "</table>\n",
       "</div>"
      ],
      "text/plain": [
       "  case_number fatal_(y/n)                                             injury  \\\n",
       "0  2018.06.25           N  No injury to occupant, outrigger canoe and pad...   \n",
       "1  2018.06.18           N                         Minor injury to left thigh   \n",
       "\n",
       "          date  \n",
       "0  25-Jun-2018  \n",
       "1  18-Jun-2018  "
      ]
     },
     "execution_count": 8,
     "metadata": {},
     "output_type": "execute_result"
    }
   ],
   "source": [
    "nuevas_columnas = {col:col.lower().replace(' ','_') for col in adicional.columns}\n",
    "adicional.rename(columns = nuevas_columnas,inplace = True)\n",
    "adicional.head(2)"
   ]
  },
  {
   "cell_type": "code",
   "execution_count": 9,
   "metadata": {},
   "outputs": [
    {
     "data": {
      "text/html": [
       "<div>\n",
       "<style scoped>\n",
       "    .dataframe tbody tr th:only-of-type {\n",
       "        vertical-align: middle;\n",
       "    }\n",
       "\n",
       "    .dataframe tbody tr th {\n",
       "        vertical-align: top;\n",
       "    }\n",
       "\n",
       "    .dataframe thead th {\n",
       "        text-align: right;\n",
       "    }\n",
       "</style>\n",
       "<table border=\"1\" class=\"dataframe\">\n",
       "  <thead>\n",
       "    <tr style=\"text-align: right;\">\n",
       "      <th></th>\n",
       "      <th>case_number</th>\n",
       "      <th>year</th>\n",
       "      <th>type</th>\n",
       "      <th>country</th>\n",
       "      <th>area</th>\n",
       "      <th>location</th>\n",
       "      <th>activity</th>\n",
       "      <th>name</th>\n",
       "      <th>sex_</th>\n",
       "      <th>age</th>\n",
       "      <th>...</th>\n",
       "      <th>species_</th>\n",
       "      <th>investigator_or_source</th>\n",
       "      <th>pdf</th>\n",
       "      <th>href_formula</th>\n",
       "      <th>href</th>\n",
       "      <th>case_number.1</th>\n",
       "      <th>case_number.2</th>\n",
       "      <th>original_order</th>\n",
       "      <th>unnamed:_22</th>\n",
       "      <th>unnamed:_23</th>\n",
       "    </tr>\n",
       "  </thead>\n",
       "  <tbody>\n",
       "    <tr>\n",
       "      <th>6132</th>\n",
       "      <td>1800.00.00</td>\n",
       "      <td>1800.0</td>\n",
       "      <td>Unprovoked</td>\n",
       "      <td>SEYCHELLES</td>\n",
       "      <td>St. Anne</td>\n",
       "      <td>NaN</td>\n",
       "      <td>a corsair's boat was overturned</td>\n",
       "      <td>NaN</td>\n",
       "      <td>F</td>\n",
       "      <td>NaN</td>\n",
       "      <td>...</td>\n",
       "      <td>NaN</td>\n",
       "      <td>V. C. Harvey-Brain</td>\n",
       "      <td>1800.00.00-Corsair-boat.pdf</td>\n",
       "      <td>http://sharkattackfile.net/spreadsheets/pdf_di...</td>\n",
       "      <td>http://sharkattackfile.net/spreadsheets/pdf_di...</td>\n",
       "      <td>1800.00.00</td>\n",
       "      <td>1800.00.00</td>\n",
       "      <td>171.0</td>\n",
       "      <td>NaN</td>\n",
       "      <td>NaN</td>\n",
       "    </tr>\n",
       "    <tr>\n",
       "      <th>6133</th>\n",
       "      <td>1797.05.28.R</td>\n",
       "      <td>1797.0</td>\n",
       "      <td>Unprovoked</td>\n",
       "      <td>NaN</td>\n",
       "      <td>NaN</td>\n",
       "      <td>NaN</td>\n",
       "      <td>Dropped overboard</td>\n",
       "      <td>child</td>\n",
       "      <td>NaN</td>\n",
       "      <td>NaN</td>\n",
       "      <td>...</td>\n",
       "      <td>NaN</td>\n",
       "      <td>The Observer 5/28/1797</td>\n",
       "      <td>1797.05.28.R-Cloverdale.pdf</td>\n",
       "      <td>http://sharkattackfile.net/spreadsheets/pdf_di...</td>\n",
       "      <td>http://sharkattackfile.net/spreadsheets/pdf_di...</td>\n",
       "      <td>1797.05.28.R</td>\n",
       "      <td>1797.05.28.R</td>\n",
       "      <td>170.0</td>\n",
       "      <td>NaN</td>\n",
       "      <td>NaN</td>\n",
       "    </tr>\n",
       "  </tbody>\n",
       "</table>\n",
       "<p>2 rows × 21 columns</p>\n",
       "</div>"
      ],
      "text/plain": [
       "       case_number    year        type     country      area location  \\\n",
       "6132    1800.00.00  1800.0  Unprovoked  SEYCHELLES  St. Anne      NaN   \n",
       "6133  1797.05.28.R  1797.0  Unprovoked         NaN       NaN      NaN   \n",
       "\n",
       "                             activity   name sex_  age  ... species_  \\\n",
       "6132  a corsair's boat was overturned    NaN    F  NaN  ...      NaN   \n",
       "6133                Dropped overboard  child  NaN  NaN  ...      NaN   \n",
       "\n",
       "      investigator_or_source                          pdf  \\\n",
       "6132      V. C. Harvey-Brain  1800.00.00-Corsair-boat.pdf   \n",
       "6133  The Observer 5/28/1797  1797.05.28.R-Cloverdale.pdf   \n",
       "\n",
       "                                           href_formula  \\\n",
       "6132  http://sharkattackfile.net/spreadsheets/pdf_di...   \n",
       "6133  http://sharkattackfile.net/spreadsheets/pdf_di...   \n",
       "\n",
       "                                                   href case_number.1  \\\n",
       "6132  http://sharkattackfile.net/spreadsheets/pdf_di...    1800.00.00   \n",
       "6133  http://sharkattackfile.net/spreadsheets/pdf_di...  1797.05.28.R   \n",
       "\n",
       "     case_number.2 original_order  unnamed:_22  unnamed:_23  \n",
       "6132    1800.00.00          171.0          NaN          NaN  \n",
       "6133  1797.05.28.R          170.0          NaN          NaN  \n",
       "\n",
       "[2 rows x 21 columns]"
      ]
     },
     "execution_count": 9,
     "metadata": {},
     "output_type": "execute_result"
    }
   ],
   "source": [
    "nuevas_columnas1 = {col:col.lower().replace(' ','_') for col in historico.columns}\n",
    "historico.rename(columns = nuevas_columnas1,inplace = True)\n",
    "historico.head(2)"
   ]
  },
  {
   "attachments": {},
   "cell_type": "markdown",
   "metadata": {},
   "source": [
    "3. En este momento nos habremos dado cuenta que el DataFrame que generamos en el pair programming Pandas IV es similar al DataFrame de los datos historicos. Si recordamos, eliminamos algunas columnas en la sesión III que no eran útiles, pero esas columnas están todavía en el histórico. Si no fuera por eso podríamos unir esos dataframes. Realizad los cambios que creais necesarios para que los dataframes sean iguales y luego juntadlos usando el mejor método."
   ]
  },
  {
   "cell_type": "code",
   "execution_count": 10,
   "metadata": {},
   "outputs": [],
   "source": [
    "historico.drop(['unnamed:_22','unnamed:_23','case_number.1','case_number.2','original_order','investigator_or_source','pdf','href_formula'],axis =1, inplace = True)"
   ]
  },
  {
   "cell_type": "code",
   "execution_count": 11,
   "metadata": {},
   "outputs": [],
   "source": [
    "historico.set_index('case_number',inplace = True)"
   ]
  },
  {
   "cell_type": "code",
   "execution_count": 12,
   "metadata": {},
   "outputs": [
    {
     "data": {
      "text/plain": [
       "Index(['year', 'type', 'country', 'area', 'location', 'activity', 'name',\n",
       "       'sex_', 'age', 'time', 'species_', 'href', 'siglo'],\n",
       "      dtype='object')"
      ]
     },
     "execution_count": 12,
     "metadata": {},
     "output_type": "execute_result"
    }
   ],
   "source": [
    "attacks4.columns"
   ]
  },
  {
   "cell_type": "code",
   "execution_count": 13,
   "metadata": {},
   "outputs": [],
   "source": [
    "attacks4.drop('siglo', axis = 1, inplace = True) # eliminamos la columna 'siglo' para que queden igual"
   ]
  },
  {
   "cell_type": "code",
   "execution_count": 14,
   "metadata": {},
   "outputs": [
    {
     "data": {
      "text/plain": [
       "Index(['year', 'type', 'country', 'area', 'location', 'activity', 'name',\n",
       "       'sex_', 'age', 'time', 'species_', 'href'],\n",
       "      dtype='object')"
      ]
     },
     "execution_count": 14,
     "metadata": {},
     "output_type": "execute_result"
    }
   ],
   "source": [
    "attacks4.columns"
   ]
  },
  {
   "cell_type": "code",
   "execution_count": 15,
   "metadata": {},
   "outputs": [
    {
     "data": {
      "text/plain": [
       "Index(['year', 'type', 'country', 'area', 'location', 'activity', 'name',\n",
       "       'sex_', 'age', 'time', 'species_', 'href'],\n",
       "      dtype='object')"
      ]
     },
     "execution_count": 15,
     "metadata": {},
     "output_type": "execute_result"
    }
   ],
   "source": [
    "historico.columns"
   ]
  },
  {
   "cell_type": "code",
   "execution_count": 16,
   "metadata": {},
   "outputs": [
    {
     "data": {
      "text/html": [
       "<div>\n",
       "<style scoped>\n",
       "    .dataframe tbody tr th:only-of-type {\n",
       "        vertical-align: middle;\n",
       "    }\n",
       "\n",
       "    .dataframe tbody tr th {\n",
       "        vertical-align: top;\n",
       "    }\n",
       "\n",
       "    .dataframe thead th {\n",
       "        text-align: right;\n",
       "    }\n",
       "</style>\n",
       "<table border=\"1\" class=\"dataframe\">\n",
       "  <thead>\n",
       "    <tr style=\"text-align: right;\">\n",
       "      <th></th>\n",
       "      <th>year</th>\n",
       "      <th>type</th>\n",
       "      <th>country</th>\n",
       "      <th>area</th>\n",
       "      <th>location</th>\n",
       "      <th>activity</th>\n",
       "      <th>name</th>\n",
       "      <th>sex_</th>\n",
       "      <th>age</th>\n",
       "      <th>time</th>\n",
       "      <th>species_</th>\n",
       "      <th>href</th>\n",
       "    </tr>\n",
       "    <tr>\n",
       "      <th>case_number</th>\n",
       "      <th></th>\n",
       "      <th></th>\n",
       "      <th></th>\n",
       "      <th></th>\n",
       "      <th></th>\n",
       "      <th></th>\n",
       "      <th></th>\n",
       "      <th></th>\n",
       "      <th></th>\n",
       "      <th></th>\n",
       "      <th></th>\n",
       "      <th></th>\n",
       "    </tr>\n",
       "  </thead>\n",
       "  <tbody>\n",
       "    <tr>\n",
       "      <th>1800.00.00</th>\n",
       "      <td>1800.0</td>\n",
       "      <td>Unprovoked</td>\n",
       "      <td>SEYCHELLES</td>\n",
       "      <td>St. Anne</td>\n",
       "      <td>NaN</td>\n",
       "      <td>a corsair's boat was overturned</td>\n",
       "      <td>NaN</td>\n",
       "      <td>F</td>\n",
       "      <td>NaN</td>\n",
       "      <td>NaN</td>\n",
       "      <td>NaN</td>\n",
       "      <td>http://sharkattackfile.net/spreadsheets/pdf_di...</td>\n",
       "    </tr>\n",
       "    <tr>\n",
       "      <th>1797.05.28.R</th>\n",
       "      <td>1797.0</td>\n",
       "      <td>Unprovoked</td>\n",
       "      <td>NaN</td>\n",
       "      <td>NaN</td>\n",
       "      <td>NaN</td>\n",
       "      <td>Dropped overboard</td>\n",
       "      <td>child</td>\n",
       "      <td>NaN</td>\n",
       "      <td>NaN</td>\n",
       "      <td>NaN</td>\n",
       "      <td>NaN</td>\n",
       "      <td>http://sharkattackfile.net/spreadsheets/pdf_di...</td>\n",
       "    </tr>\n",
       "    <tr>\n",
       "      <th>1792.09.12</th>\n",
       "      <td>1792.0</td>\n",
       "      <td>Provoked</td>\n",
       "      <td>ENGLAND</td>\n",
       "      <td>NaN</td>\n",
       "      <td>On the Thames River</td>\n",
       "      <td>Fishing</td>\n",
       "      <td>male</td>\n",
       "      <td>M</td>\n",
       "      <td>NaN</td>\n",
       "      <td>NaN</td>\n",
       "      <td>NaN</td>\n",
       "      <td>http://sharkattackfile.net/spreadsheets/pdf_di...</td>\n",
       "    </tr>\n",
       "    <tr>\n",
       "      <th>1791.00.00</th>\n",
       "      <td>1791.0</td>\n",
       "      <td>Unprovoked</td>\n",
       "      <td>AUSTRALIA</td>\n",
       "      <td>New South Wales</td>\n",
       "      <td>Port Jackson</td>\n",
       "      <td>NaN</td>\n",
       "      <td>female, an Australian aboriginal</td>\n",
       "      <td>F</td>\n",
       "      <td>NaN</td>\n",
       "      <td>NaN</td>\n",
       "      <td>NaN</td>\n",
       "      <td>http://sharkattackfile.net/spreadsheets/pdf_di...</td>\n",
       "    </tr>\n",
       "    <tr>\n",
       "      <th>1788.05.10</th>\n",
       "      <td>1788.0</td>\n",
       "      <td>Boat</td>\n",
       "      <td>AUSTRALIA</td>\n",
       "      <td>New South Wales</td>\n",
       "      <td>Sydney Harbor</td>\n",
       "      <td>Fishing</td>\n",
       "      <td>boat</td>\n",
       "      <td>NaN</td>\n",
       "      <td>NaN</td>\n",
       "      <td>NaN</td>\n",
       "      <td>NaN</td>\n",
       "      <td>http://sharkattackfile.net/spreadsheets/pdf_di...</td>\n",
       "    </tr>\n",
       "  </tbody>\n",
       "</table>\n",
       "</div>"
      ],
      "text/plain": [
       "                year        type     country             area  \\\n",
       "case_number                                                     \n",
       "1800.00.00    1800.0  Unprovoked  SEYCHELLES         St. Anne   \n",
       "1797.05.28.R  1797.0  Unprovoked         NaN              NaN   \n",
       "1792.09.12    1792.0    Provoked     ENGLAND              NaN   \n",
       "1791.00.00    1791.0  Unprovoked   AUSTRALIA  New South Wales   \n",
       "1788.05.10    1788.0        Boat   AUSTRALIA  New South Wales   \n",
       "\n",
       "                         location                         activity  \\\n",
       "case_number                                                          \n",
       "1800.00.00                    NaN  a corsair's boat was overturned   \n",
       "1797.05.28.R                  NaN                Dropped overboard   \n",
       "1792.09.12    On the Thames River                          Fishing   \n",
       "1791.00.00           Port Jackson                              NaN   \n",
       "1788.05.10          Sydney Harbor                          Fishing   \n",
       "\n",
       "                                          name sex_  age time species_  \\\n",
       "case_number                                                              \n",
       "1800.00.00                                 NaN    F  NaN  NaN      NaN   \n",
       "1797.05.28.R                             child  NaN  NaN  NaN      NaN   \n",
       "1792.09.12                                male    M  NaN  NaN      NaN   \n",
       "1791.00.00    female, an Australian aboriginal    F  NaN  NaN      NaN   \n",
       "1788.05.10                                boat  NaN  NaN  NaN      NaN   \n",
       "\n",
       "                                                           href  \n",
       "case_number                                                      \n",
       "1800.00.00    http://sharkattackfile.net/spreadsheets/pdf_di...  \n",
       "1797.05.28.R  http://sharkattackfile.net/spreadsheets/pdf_di...  \n",
       "1792.09.12    http://sharkattackfile.net/spreadsheets/pdf_di...  \n",
       "1791.00.00    http://sharkattackfile.net/spreadsheets/pdf_di...  \n",
       "1788.05.10    http://sharkattackfile.net/spreadsheets/pdf_di...  "
      ]
     },
     "execution_count": 16,
     "metadata": {},
     "output_type": "execute_result"
    }
   ],
   "source": [
    "concat_historico_attacks = pd.concat([historico,attacks4], axis = 0)\n",
    "concat_historico_attacks.head()\n",
    "\n"
   ]
  },
  {
   "cell_type": "code",
   "execution_count": 17,
   "metadata": {},
   "outputs": [
    {
     "data": {
      "text/plain": [
       "20064"
      ]
     },
     "execution_count": 17,
     "metadata": {},
     "output_type": "execute_result"
    }
   ],
   "source": [
    "concat_historico_attacks.size"
   ]
  },
  {
   "cell_type": "code",
   "execution_count": 18,
   "metadata": {},
   "outputs": [
    {
     "data": {
      "text/plain": [
       "True"
      ]
     },
     "execution_count": 18,
     "metadata": {},
     "output_type": "execute_result"
    }
   ],
   "source": [
    "historico.size + attacks4.size == concat_historico_attacks.size \n",
    "# Comprobamos que se ha unido viendo que tienen el mismo size"
   ]
  },
  {
   "attachments": {},
   "cell_type": "markdown",
   "metadata": {},
   "source": [
    "4. Es el momento de unir la información de todos los ataques de tiburón que acabamos de crear con el DataFrame de información adicional. \n",
    "Debatid que método es el más correcto para unir toda esta información y ejecutadlo.\n",
    "\n",
    "📌 NOTA Cuando hagáis la unión considerad que la información que más nos interesa es la del DataFrame que creamos en el apartado anterior, lo cual determinará el tipo de unión."
   ]
  },
  {
   "cell_type": "code",
   "execution_count": 20,
   "metadata": {},
   "outputs": [],
   "source": [
    "adicional.set_index('case_number',inplace = True) # Convertimos a índice la columna case_number para hacer el join"
   ]
  },
  {
   "cell_type": "code",
   "execution_count": 21,
   "metadata": {},
   "outputs": [],
   "source": [
    "joins = concat_historico_attacks.join(adicional, on ='case_number') "
   ]
  },
  {
   "cell_type": "code",
   "execution_count": 28,
   "metadata": {},
   "outputs": [
    {
     "data": {
      "text/html": [
       "<div>\n",
       "<style scoped>\n",
       "    .dataframe tbody tr th:only-of-type {\n",
       "        vertical-align: middle;\n",
       "    }\n",
       "\n",
       "    .dataframe tbody tr th {\n",
       "        vertical-align: top;\n",
       "    }\n",
       "\n",
       "    .dataframe thead th {\n",
       "        text-align: right;\n",
       "    }\n",
       "</style>\n",
       "<table border=\"1\" class=\"dataframe\">\n",
       "  <thead>\n",
       "    <tr style=\"text-align: right;\">\n",
       "      <th></th>\n",
       "      <th>year</th>\n",
       "      <th>type</th>\n",
       "      <th>country</th>\n",
       "      <th>area</th>\n",
       "      <th>location</th>\n",
       "      <th>activity</th>\n",
       "      <th>name</th>\n",
       "      <th>sex_</th>\n",
       "      <th>age</th>\n",
       "      <th>time</th>\n",
       "      <th>species_</th>\n",
       "      <th>href</th>\n",
       "      <th>fatal_(y/n)</th>\n",
       "      <th>injury</th>\n",
       "      <th>date</th>\n",
       "    </tr>\n",
       "    <tr>\n",
       "      <th>case_number</th>\n",
       "      <th></th>\n",
       "      <th></th>\n",
       "      <th></th>\n",
       "      <th></th>\n",
       "      <th></th>\n",
       "      <th></th>\n",
       "      <th></th>\n",
       "      <th></th>\n",
       "      <th></th>\n",
       "      <th></th>\n",
       "      <th></th>\n",
       "      <th></th>\n",
       "      <th></th>\n",
       "      <th></th>\n",
       "      <th></th>\n",
       "    </tr>\n",
       "  </thead>\n",
       "  <tbody>\n",
       "    <tr>\n",
       "      <th>1800.00.00</th>\n",
       "      <td>1800.0</td>\n",
       "      <td>Unprovoked</td>\n",
       "      <td>SEYCHELLES</td>\n",
       "      <td>St. Anne</td>\n",
       "      <td>NaN</td>\n",
       "      <td>a corsair's boat was overturned</td>\n",
       "      <td>NaN</td>\n",
       "      <td>F</td>\n",
       "      <td>NaN</td>\n",
       "      <td>NaN</td>\n",
       "      <td>NaN</td>\n",
       "      <td>http://sharkattackfile.net/spreadsheets/pdf_di...</td>\n",
       "      <td>Y</td>\n",
       "      <td>FATAL, all onboard were killed by sharks</td>\n",
       "      <td>1800</td>\n",
       "    </tr>\n",
       "    <tr>\n",
       "      <th>1797.05.28.R</th>\n",
       "      <td>1797.0</td>\n",
       "      <td>Unprovoked</td>\n",
       "      <td>NaN</td>\n",
       "      <td>NaN</td>\n",
       "      <td>NaN</td>\n",
       "      <td>Dropped overboard</td>\n",
       "      <td>child</td>\n",
       "      <td>NaN</td>\n",
       "      <td>NaN</td>\n",
       "      <td>NaN</td>\n",
       "      <td>NaN</td>\n",
       "      <td>http://sharkattackfile.net/spreadsheets/pdf_di...</td>\n",
       "      <td>Y</td>\n",
       "      <td>FATAL</td>\n",
       "      <td>Reported May-28-1797</td>\n",
       "    </tr>\n",
       "    <tr>\n",
       "      <th>1792.09.12</th>\n",
       "      <td>1792.0</td>\n",
       "      <td>Provoked</td>\n",
       "      <td>ENGLAND</td>\n",
       "      <td>NaN</td>\n",
       "      <td>On the Thames River</td>\n",
       "      <td>Fishing</td>\n",
       "      <td>male</td>\n",
       "      <td>M</td>\n",
       "      <td>NaN</td>\n",
       "      <td>NaN</td>\n",
       "      <td>NaN</td>\n",
       "      <td>http://sharkattackfile.net/spreadsheets/pdf_di...</td>\n",
       "      <td>Y</td>\n",
       "      <td>FATAL, PROVOKED INCIDENT</td>\n",
       "      <td>12-Sep-1792</td>\n",
       "    </tr>\n",
       "    <tr>\n",
       "      <th>1791.00.00</th>\n",
       "      <td>1791.0</td>\n",
       "      <td>Unprovoked</td>\n",
       "      <td>AUSTRALIA</td>\n",
       "      <td>New South Wales</td>\n",
       "      <td>Port Jackson</td>\n",
       "      <td>NaN</td>\n",
       "      <td>female, an Australian aboriginal</td>\n",
       "      <td>F</td>\n",
       "      <td>NaN</td>\n",
       "      <td>NaN</td>\n",
       "      <td>NaN</td>\n",
       "      <td>http://sharkattackfile.net/spreadsheets/pdf_di...</td>\n",
       "      <td>Y</td>\n",
       "      <td>FATAL, \"bitten in two\"</td>\n",
       "      <td>1791</td>\n",
       "    </tr>\n",
       "    <tr>\n",
       "      <th>1788.05.10</th>\n",
       "      <td>1788.0</td>\n",
       "      <td>Boat</td>\n",
       "      <td>AUSTRALIA</td>\n",
       "      <td>New South Wales</td>\n",
       "      <td>Sydney Harbor</td>\n",
       "      <td>Fishing</td>\n",
       "      <td>boat</td>\n",
       "      <td>NaN</td>\n",
       "      <td>NaN</td>\n",
       "      <td>NaN</td>\n",
       "      <td>NaN</td>\n",
       "      <td>http://sharkattackfile.net/spreadsheets/pdf_di...</td>\n",
       "      <td>N</td>\n",
       "      <td>No injury to occupants, shark bit oar and rudder</td>\n",
       "      <td>10-May-1788</td>\n",
       "    </tr>\n",
       "  </tbody>\n",
       "</table>\n",
       "</div>"
      ],
      "text/plain": [
       "                year        type     country             area  \\\n",
       "case_number                                                     \n",
       "1800.00.00    1800.0  Unprovoked  SEYCHELLES         St. Anne   \n",
       "1797.05.28.R  1797.0  Unprovoked         NaN              NaN   \n",
       "1792.09.12    1792.0    Provoked     ENGLAND              NaN   \n",
       "1791.00.00    1791.0  Unprovoked   AUSTRALIA  New South Wales   \n",
       "1788.05.10    1788.0        Boat   AUSTRALIA  New South Wales   \n",
       "\n",
       "                         location                         activity  \\\n",
       "case_number                                                          \n",
       "1800.00.00                    NaN  a corsair's boat was overturned   \n",
       "1797.05.28.R                  NaN                Dropped overboard   \n",
       "1792.09.12    On the Thames River                          Fishing   \n",
       "1791.00.00           Port Jackson                              NaN   \n",
       "1788.05.10          Sydney Harbor                          Fishing   \n",
       "\n",
       "                                          name sex_  age time species_  \\\n",
       "case_number                                                              \n",
       "1800.00.00                                 NaN    F  NaN  NaN      NaN   \n",
       "1797.05.28.R                             child  NaN  NaN  NaN      NaN   \n",
       "1792.09.12                                male    M  NaN  NaN      NaN   \n",
       "1791.00.00    female, an Australian aboriginal    F  NaN  NaN      NaN   \n",
       "1788.05.10                                boat  NaN  NaN  NaN      NaN   \n",
       "\n",
       "                                                           href fatal_(y/n)  \\\n",
       "case_number                                                                   \n",
       "1800.00.00    http://sharkattackfile.net/spreadsheets/pdf_di...           Y   \n",
       "1797.05.28.R  http://sharkattackfile.net/spreadsheets/pdf_di...           Y   \n",
       "1792.09.12    http://sharkattackfile.net/spreadsheets/pdf_di...           Y   \n",
       "1791.00.00    http://sharkattackfile.net/spreadsheets/pdf_di...           Y   \n",
       "1788.05.10    http://sharkattackfile.net/spreadsheets/pdf_di...           N   \n",
       "\n",
       "                                                        injury  \\\n",
       "case_number                                                      \n",
       "1800.00.00            FATAL, all onboard were killed by sharks   \n",
       "1797.05.28.R                                             FATAL   \n",
       "1792.09.12                            FATAL, PROVOKED INCIDENT   \n",
       "1791.00.00                              FATAL, \"bitten in two\"   \n",
       "1788.05.10    No injury to occupants, shark bit oar and rudder   \n",
       "\n",
       "                              date  \n",
       "case_number                         \n",
       "1800.00.00                    1800  \n",
       "1797.05.28.R  Reported May-28-1797  \n",
       "1792.09.12             12-Sep-1792  \n",
       "1791.00.00                    1791  \n",
       "1788.05.10             10-May-1788  "
      ]
     },
     "execution_count": 28,
     "metadata": {},
     "output_type": "execute_result"
    }
   ],
   "source": [
    "joins.head()"
   ]
  },
  {
   "attachments": {},
   "cell_type": "markdown",
   "metadata": {},
   "source": [
    "5.Guardad el dataframe nuevo en un csv que usaremos mañana en la clase de pair programming"
   ]
  },
  {
   "cell_type": "code",
   "execution_count": 29,
   "metadata": {},
   "outputs": [],
   "source": [
    "joins.to_csv('attacks_pandas_5.csv')"
   ]
  }
 ],
 "metadata": {
  "kernelspec": {
   "display_name": "base",
   "language": "python",
   "name": "python3"
  },
  "language_info": {
   "codemirror_mode": {
    "name": "ipython",
    "version": 3
   },
   "file_extension": ".py",
   "mimetype": "text/x-python",
   "name": "python",
   "nbconvert_exporter": "python",
   "pygments_lexer": "ipython3",
   "version": "3.9.7 (default, Sep 16 2021, 13:09:58) \n[GCC 7.5.0]"
  },
  "orig_nbformat": 4,
  "vscode": {
   "interpreter": {
    "hash": "4b1ecc98482ac3f78e7638a36d488665c227c7cb0420745d3c03f1c165a0d66a"
   }
  }
 },
 "nbformat": 4,
 "nbformat_minor": 2
}
