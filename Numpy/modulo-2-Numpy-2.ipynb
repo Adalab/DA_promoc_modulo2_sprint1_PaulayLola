{
 "cells": [
  {
   "cell_type": "markdown",
   "metadata": {},
   "source": [
    "1- Cread un array de dos dimensiones de 5 filas y 3 columnas. Sobre el array creado anteriormente, extraed:\n",
    "- El valor de la primera fila y la segunda columna.\n",
    "- Los valores de la segunda fila y las dos primeras columnas.\n",
    "- Extraed las filas pares (incluyendo la 0) y todas las columnas.\n",
    "- Extraed los valores que sean mayores que 0.5.\n",
    "- Extraed los valores menores que 0.2 o mayores que 0.5"
   ]
  },
  {
   "cell_type": "code",
   "execution_count": 2,
   "metadata": {},
   "outputs": [],
   "source": [
    "import numpy as np"
   ]
  },
  {
   "cell_type": "code",
   "execution_count": 8,
   "metadata": {},
   "outputs": [
    {
     "data": {
      "text/plain": [
       "array([[0.72598941, 0.25574266, 0.86083923],\n",
       "       [0.60741004, 0.39023448, 0.86489443],\n",
       "       [0.80912176, 0.35243652, 0.01767688],\n",
       "       [0.63190625, 0.80938558, 0.29353284],\n",
       "       [0.06265806, 0.08395311, 0.79260016]])"
      ]
     },
     "execution_count": 8,
     "metadata": {},
     "output_type": "execute_result"
    }
   ],
   "source": [
    "array1 = np.random.rand(5,3)\n",
    "array1"
   ]
  },
  {
   "cell_type": "code",
   "execution_count": 9,
   "metadata": {},
   "outputs": [
    {
     "data": {
      "text/plain": [
       "0.864894425368738"
      ]
     },
     "execution_count": 9,
     "metadata": {},
     "output_type": "execute_result"
    }
   ],
   "source": [
    "#primera fila y segunda columna\n",
    "array1[1,2]"
   ]
  },
  {
   "cell_type": "code",
   "execution_count": 10,
   "metadata": {},
   "outputs": [
    {
     "data": {
      "text/plain": [
       "array([0.80912176, 0.35243652])"
      ]
     },
     "execution_count": 10,
     "metadata": {},
     "output_type": "execute_result"
    }
   ],
   "source": [
    "#Valores de la segunda fila y las dos primeras columnas\n",
    "array1[2,0:2]"
   ]
  },
  {
   "cell_type": "code",
   "execution_count": 11,
   "metadata": {},
   "outputs": [
    {
     "data": {
      "text/plain": [
       "array([[0.72598941, 0.25574266, 0.86083923],\n",
       "       [0.80912176, 0.35243652, 0.01767688],\n",
       "       [0.06265806, 0.08395311, 0.79260016]])"
      ]
     },
     "execution_count": 11,
     "metadata": {},
     "output_type": "execute_result"
    }
   ],
   "source": [
    "#Filas pares incluyendo 0 y todas las columnas\n",
    "array1[::2,:]"
   ]
  },
  {
   "cell_type": "code",
   "execution_count": 12,
   "metadata": {},
   "outputs": [
    {
     "data": {
      "text/plain": [
       "array([0.72598941, 0.86083923, 0.60741004, 0.86489443, 0.80912176,\n",
       "       0.63190625, 0.80938558, 0.79260016])"
      ]
     },
     "execution_count": 12,
     "metadata": {},
     "output_type": "execute_result"
    }
   ],
   "source": [
    "#valores mayores de 0,5\n",
    "array1[array1>0.5]"
   ]
  },
  {
   "cell_type": "code",
   "execution_count": 13,
   "metadata": {},
   "outputs": [
    {
     "data": {
      "text/plain": [
       "array([0.72598941, 0.86083923, 0.60741004, 0.86489443, 0.80912176,\n",
       "       0.01767688, 0.63190625, 0.80938558, 0.06265806, 0.08395311,\n",
       "       0.79260016])"
      ]
     },
     "execution_count": 13,
     "metadata": {},
     "output_type": "execute_result"
    }
   ],
   "source": [
    "#Menores que 0,2 y mayores de 0,5\n",
    "array1[(array1<0.2)|(array1>0.5)]"
   ]
  },
  {
   "cell_type": "markdown",
   "metadata": {},
   "source": [
    "2. Cread dos array de tres dimensiones:\n",
    "- El primero de 2 matrices, 5 filas y 3 columnas.\n",
    "- El segundo de 3 matrices, 2 filas y 5 columnas\n",
    "- Haced un análisis exploratorio de los array creados. Recordad que en el ejercicio de ayer nos creamos una función para esto.\n",
    "- Sumad los dos arrays. ¿Podéis? ¿Por qué?\n",
    "- Para cambiar la forma de un array y poder hacer operaciones entre arrays que tienen distintas formas hemos aprendido dos métodos:\n",
    ".reshape()\n",
    ".transpose()\n",
    "Utiliza estas dos funciones para cambiar la forma de los array y hacer operaciones entre ellos."
   ]
  },
  {
   "cell_type": "code",
   "execution_count": 14,
   "metadata": {},
   "outputs": [
    {
     "data": {
      "text/plain": [
       "array([[[0.89910725, 0.21567346, 0.59070676],\n",
       "        [0.47670578, 0.98825904, 0.40738843],\n",
       "        [0.17290614, 0.92656038, 0.95776712],\n",
       "        [0.29121816, 0.90192855, 0.90225724],\n",
       "        [0.01667074, 0.6926711 , 0.8787426 ]],\n",
       "\n",
       "       [[0.82157246, 0.62160637, 0.0097469 ],\n",
       "        [0.80461866, 0.8160905 , 0.84901253],\n",
       "        [0.13019506, 0.23469296, 0.10889256],\n",
       "        [0.4050295 , 0.67189278, 0.84122413],\n",
       "        [0.13425165, 0.25022977, 0.17717265]]])"
      ]
     },
     "execution_count": 14,
     "metadata": {},
     "output_type": "execute_result"
    }
   ],
   "source": [
    "array2 = np.random.rand(2,5,3)\n",
    "array2"
   ]
  },
  {
   "cell_type": "code",
   "execution_count": 15,
   "metadata": {},
   "outputs": [
    {
     "data": {
      "text/plain": [
       "array([[[0.51906038, 0.65733061, 0.7949204 , 0.61257008, 0.20756802],\n",
       "        [0.78822099, 0.03726344, 0.10284973, 0.04931721, 0.14711575]],\n",
       "\n",
       "       [[0.69609733, 0.28132642, 0.75196181, 0.73383213, 0.01104129],\n",
       "        [0.54428551, 0.15069956, 0.00595865, 0.43754652, 0.86312587]],\n",
       "\n",
       "       [[0.28409949, 0.44881981, 0.0283984 , 0.3509521 , 0.31479651],\n",
       "        [0.27564817, 0.5651774 , 0.26930321, 0.48805486, 0.58855814]]])"
      ]
     },
     "execution_count": 15,
     "metadata": {},
     "output_type": "execute_result"
    }
   ],
   "source": [
    "array3 = np.random.rand(3,2,5)\n",
    "array3"
   ]
  },
  {
   "cell_type": "code",
   "execution_count": 16,
   "metadata": {},
   "outputs": [],
   "source": [
    "def propiedades(array): \n",
    "    print(f'La forma es {array.shape}')\n",
    "    print(f'El tamaño  es {array.size}')\n",
    "    print(f'La dimensión  es {array.ndim}')\n",
    "    print(f'El tipo  es {array.dtype}')"
   ]
  },
  {
   "cell_type": "code",
   "execution_count": 17,
   "metadata": {},
   "outputs": [
    {
     "name": "stdout",
     "output_type": "stream",
     "text": [
      "La forma es (2, 5, 3)\n",
      "El tamaño  es 30\n",
      "La dimensión  es 3\n",
      "El tipo  es float64\n"
     ]
    }
   ],
   "source": [
    "propiedades(array2)"
   ]
  },
  {
   "cell_type": "code",
   "execution_count": 18,
   "metadata": {},
   "outputs": [
    {
     "name": "stdout",
     "output_type": "stream",
     "text": [
      "La forma es (3, 2, 5)\n",
      "El tamaño  es 30\n",
      "La dimensión  es 3\n",
      "El tipo  es float64\n"
     ]
    }
   ],
   "source": [
    "propiedades (array3)"
   ]
  },
  {
   "cell_type": "code",
   "execution_count": 20,
   "metadata": {},
   "outputs": [
    {
     "ename": "ValueError",
     "evalue": "operands could not be broadcast together with shapes (2,5,3) (3,2,5) ",
     "output_type": "error",
     "traceback": [
      "\u001b[0;31m---------------------------------------------------------------------------\u001b[0m",
      "\u001b[0;31mValueError\u001b[0m                                Traceback (most recent call last)",
      "Cell \u001b[0;32mIn [20], line 1\u001b[0m\n\u001b[0;32m----> 1\u001b[0m array4 \u001b[39m=\u001b[39m np\u001b[39m.\u001b[39;49madd(array2,array3)\n",
      "\u001b[0;31mValueError\u001b[0m: operands could not be broadcast together with shapes (2,5,3) (3,2,5) "
     ]
    }
   ],
   "source": [
    "array4 = np.add(array2,array3)\n",
    "#No se puede porque no tienen la misma forma"
   ]
  },
  {
   "cell_type": "code",
   "execution_count": 22,
   "metadata": {},
   "outputs": [
    {
     "data": {
      "text/plain": [
       "array([[[0.51906038, 0.65733061, 0.7949204 ],\n",
       "        [0.61257008, 0.20756802, 0.78822099],\n",
       "        [0.03726344, 0.10284973, 0.04931721],\n",
       "        [0.14711575, 0.69609733, 0.28132642],\n",
       "        [0.75196181, 0.73383213, 0.01104129]],\n",
       "\n",
       "       [[0.54428551, 0.15069956, 0.00595865],\n",
       "        [0.43754652, 0.86312587, 0.28409949],\n",
       "        [0.44881981, 0.0283984 , 0.3509521 ],\n",
       "        [0.31479651, 0.27564817, 0.5651774 ],\n",
       "        [0.26930321, 0.48805486, 0.58855814]]])"
      ]
     },
     "execution_count": 22,
     "metadata": {},
     "output_type": "execute_result"
    }
   ],
   "source": [
    "array3_reshaped = np.reshape(array3, (2,5,3))\n",
    "array3_reshaped"
   ]
  },
  {
   "cell_type": "code",
   "execution_count": 24,
   "metadata": {},
   "outputs": [
    {
     "data": {
      "text/plain": [
       "array([[[1.41816763, 0.87300407, 1.38562716],\n",
       "        [1.08927587, 1.19582706, 1.19560942],\n",
       "        [0.21016958, 1.0294101 , 1.00708433],\n",
       "        [0.43833391, 1.59802588, 1.18358366],\n",
       "        [0.76863255, 1.42650323, 0.88978389]],\n",
       "\n",
       "       [[1.36585797, 0.77230593, 0.01570555],\n",
       "        [1.24216519, 1.67921638, 1.13311202],\n",
       "        [0.57901487, 0.26309136, 0.45984466],\n",
       "        [0.71982601, 0.94754095, 1.40640153],\n",
       "        [0.40355486, 0.73828462, 0.76573079]]])"
      ]
     },
     "execution_count": 24,
     "metadata": {},
     "output_type": "execute_result"
    }
   ],
   "source": [
    "array4 = np.add(array2,array3_reshaped)\n",
    "array4"
   ]
  },
  {
   "cell_type": "code",
   "execution_count": 27,
   "metadata": {},
   "outputs": [
    {
     "data": {
      "text/plain": [
       "array([[[0.51906038, 0.69609733, 0.28409949],\n",
       "        [0.65733061, 0.28132642, 0.44881981],\n",
       "        [0.7949204 , 0.75196181, 0.0283984 ],\n",
       "        [0.61257008, 0.73383213, 0.3509521 ],\n",
       "        [0.20756802, 0.01104129, 0.31479651]],\n",
       "\n",
       "       [[0.78822099, 0.54428551, 0.27564817],\n",
       "        [0.03726344, 0.15069956, 0.5651774 ],\n",
       "        [0.10284973, 0.00595865, 0.26930321],\n",
       "        [0.04931721, 0.43754652, 0.48805486],\n",
       "        [0.14711575, 0.86312587, 0.58855814]]])"
      ]
     },
     "execution_count": 27,
     "metadata": {},
     "output_type": "execute_result"
    }
   ],
   "source": [
    "array3_transposed = np.transpose(array3, (1,2,0)) # Cambiamos con transposed la posición 1 a la 0, la 2 a la 1 y la 0 a la 2.\n",
    "array3_transposed"
   ]
  },
  {
   "cell_type": "code",
   "execution_count": 28,
   "metadata": {},
   "outputs": [
    {
     "data": {
      "text/plain": [
       "array([[[1.41816763, 0.91177079, 0.87480625],\n",
       "        [1.13403639, 1.26958545, 0.85620824],\n",
       "        [0.96782655, 1.67852218, 0.98616553],\n",
       "        [0.90378824, 1.63576068, 1.25320935],\n",
       "        [0.22423876, 0.70371238, 1.19353911]],\n",
       "\n",
       "       [[1.60979345, 1.16589188, 0.28539507],\n",
       "        [0.8418821 , 0.96679007, 1.41418993],\n",
       "        [0.23304478, 0.24065162, 0.37819578],\n",
       "        [0.45434671, 1.1094393 , 1.32927898],\n",
       "        [0.28136739, 1.11335564, 0.76573079]]])"
      ]
     },
     "execution_count": 28,
     "metadata": {},
     "output_type": "execute_result"
    }
   ],
   "source": [
    "array5 = np.add(array2,array3_transposed)\n",
    "array5"
   ]
  }
 ],
 "metadata": {
  "kernelspec": {
   "display_name": "Python 3.9.13 ('base')",
   "language": "python",
   "name": "python3"
  },
  "language_info": {
   "codemirror_mode": {
    "name": "ipython",
    "version": 3
   },
   "file_extension": ".py",
   "mimetype": "text/x-python",
   "name": "python",
   "nbconvert_exporter": "python",
   "pygments_lexer": "ipython3",
   "version": "3.9.13"
  },
  "orig_nbformat": 4,
  "vscode": {
   "interpreter": {
    "hash": "85c042135e83639dad74b6ec6c9d943b5dc47ca281624d931a3e14168052f53c"
   }
  }
 },
 "nbformat": 4,
 "nbformat_minor": 2
}
