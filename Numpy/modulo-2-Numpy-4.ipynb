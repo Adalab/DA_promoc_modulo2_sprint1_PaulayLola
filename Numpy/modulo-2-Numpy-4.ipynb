{
 "cells": [
  {
   "cell_type": "code",
   "execution_count": 1,
   "metadata": {},
   "outputs": [],
   "source": [
    "import numpy as np"
   ]
  },
  {
   "attachments": {},
   "cell_type": "markdown",
   "metadata": {},
   "source": [
    "1- ¿Cómo podemos crear dos arrays de dos dimensiones usando el método random_sample que tengan los mismos valores?"
   ]
  },
  {
   "cell_type": "code",
   "execution_count": 5,
   "metadata": {},
   "outputs": [
    {
     "data": {
      "text/plain": [
       "array([[4.17022005e-01, 7.20324493e-01],\n",
       "       [1.14374817e-04, 3.02332573e-01],\n",
       "       [1.46755891e-01, 9.23385948e-02],\n",
       "       [1.86260211e-01, 3.45560727e-01],\n",
       "       [3.96767474e-01, 5.38816734e-01]])"
      ]
     },
     "execution_count": 5,
     "metadata": {},
     "output_type": "execute_result"
    }
   ],
   "source": [
    "#Utilizando random.seed\n",
    "np.random.seed(1)\n",
    "arr1=np.random.rand(5,2)\n",
    "arr1"
   ]
  },
  {
   "cell_type": "code",
   "execution_count": 6,
   "metadata": {},
   "outputs": [
    {
     "data": {
      "text/plain": [
       "array([[4.17022005e-01, 7.20324493e-01],\n",
       "       [1.14374817e-04, 3.02332573e-01],\n",
       "       [1.46755891e-01, 9.23385948e-02],\n",
       "       [1.86260211e-01, 3.45560727e-01],\n",
       "       [3.96767474e-01, 5.38816734e-01]])"
      ]
     },
     "execution_count": 6,
     "metadata": {},
     "output_type": "execute_result"
    }
   ],
   "source": [
    "np.random.seed(1)\n",
    "arr2=np.random.rand(5,2)\n",
    "arr2"
   ]
  },
  {
   "attachments": {},
   "cell_type": "markdown",
   "metadata": {},
   "source": [
    "2- Cread los siguientes arrays:\n",
    "- Un array de tres dimensiones con distribución uniforme de 2 x 3 x 5, con números entre 0 y 10, que no tengan decimales y extrae sus valores únicos almacenándolos en una variable.\n",
    "- Un array de tres dimensiones con distribución binomial de 2 x 3 x 5, con probabilidad de 0.3 y número de pruebas igual a 10. Igual que antes, extrae sus valores únicos y guarda los datos en una variable."
   ]
  },
  {
   "cell_type": "code",
   "execution_count": 26,
   "metadata": {},
   "outputs": [
    {
     "name": "stdout",
     "output_type": "stream",
     "text": [
      "[[[9 8 0 7 4]\n",
      "  [9 2 2 0 4]\n",
      "  [1 6 8 6 7]]\n",
      "\n",
      " [[3 8 4 8 6]\n",
      "  [1 0 0 0 4]\n",
      "  [1 0 7 3 7]]]\n",
      "-----------------------------------\n",
      "[0 1 2 3 4 6 7 8 9]\n"
     ]
    }
   ],
   "source": [
    "array_1 = np.random.uniform(size=(2,3,5), low = 0, high =10).astype(int)\n",
    "print (array_1)\n",
    "print ('-----------------------------------')\n",
    "array_1_unique = np.unique(array_1)\n",
    "print(array_1_unique)"
   ]
  },
  {
   "cell_type": "code",
   "execution_count": 28,
   "metadata": {},
   "outputs": [
    {
     "name": "stdout",
     "output_type": "stream",
     "text": [
      "[[[1 4 1 2 4]\n",
      "  [2 6 2 3 2]\n",
      "  [5 2 3 3 5]]\n",
      "\n",
      " [[1 4 5 0 3]\n",
      "  [2 5 3 4 3]\n",
      "  [3 2 0 3 2]]]\n",
      "-----------------------------------\n",
      "[0 1 2 3 4 5 6]\n"
     ]
    }
   ],
   "source": [
    "array_2 = np.random.binomial(10, 0.3, size=(2,3,5))\n",
    "print (array_2)\n",
    "print ('-----------------------------------')\n",
    "array_2_unique = np.unique(array_2)\n",
    "print(array_2_unique)"
   ]
  },
  {
   "attachments": {},
   "cell_type": "markdown",
   "metadata": {},
   "source": [
    "3- En esta lección hemos aprendido algunos métodos de teórias de conjuntos. Usando los arrays de elementos únicos obtenidos en el ejercicio anterior realizad las siguientes operaciones:\n",
    "- Elementos comunes entre los dos arrays\n",
    "- Unión de los dos arrays\n",
    "- ¿Qué elementos están en el array derivado de la distribución uniforme y no en los únicos de la distribución binomial? Extrae los valores númericos\n",
    "\n",
    "⚠️ Explicar cada uno de los outputs que os salgan. Que significa cada una de estas operaciones que hemos ido extrayendo?\n"
   ]
  },
  {
   "cell_type": "code",
   "execution_count": 29,
   "metadata": {},
   "outputs": [
    {
     "data": {
      "text/plain": [
       "array([0, 1, 2, 3, 4, 6])"
      ]
     },
     "execution_count": 29,
     "metadata": {},
     "output_type": "execute_result"
    }
   ],
   "source": [
    "#Elementos comunes:\n",
    "np.intersect1d(array_1,array_2)\n",
    "#Los elementos que están en ambos arrays los extraemos con intersect1d, estos números están en ambos arrays y lo devuelve como un array ordenado y en valores únicos.\n",
    "#Como en array1 tenemos todos los números del 0 al 9 y en el array2 del 0 al 5, los elementos comunes son del 0 al 5.\n"
   ]
  },
  {
   "cell_type": "code",
   "execution_count": 30,
   "metadata": {},
   "outputs": [
    {
     "data": {
      "text/plain": [
       "array([0, 1, 2, 3, 4, 5, 6, 7, 8, 9])"
      ]
     },
     "execution_count": 30,
     "metadata": {},
     "output_type": "execute_result"
    }
   ],
   "source": [
    "#Unión de los dos arrays\n",
    "np.union1d(array_1,array_2)\n",
    "#Devuelve un array ordenado con valores únicos de los tomando los números que están tanto en un array como en otro.\n",
    "#Al unir ambos arrays, como los valores del array2 están contenidos en el array1 la unión de ambos son los números unicos del array1."
   ]
  },
  {
   "cell_type": "code",
   "execution_count": 31,
   "metadata": {},
   "outputs": [
    {
     "data": {
      "text/plain": [
       "array([7, 8, 9])"
      ]
     },
     "execution_count": 31,
     "metadata": {},
     "output_type": "execute_result"
    }
   ],
   "source": [
    "#Elementos están en el array derivado de la distribución uniforme y no en los únicos de la distribución binomial\n",
    "np.setdiff1d(array_1,array_2_unique)\n",
    "# Devuelve los elementos que se encuentran en el array1 y no se encuentran en los únicos del array2\n",
    "# La diferencia entra ambos son los números que no están en el array2, es decir del 6 al 9."
   ]
  },
  {
   "attachments": {},
   "cell_type": "markdown",
   "metadata": {},
   "source": [
    "4- Cread dos arrays usando el método random.randint de Numpy con 80 elementos cada uno con números del 1-100, con los siguientes nombres array1 y array2. \n",
    "- Extraed los valores únicos de cada uno de los arrays y los guardáis en variables en las que se les llame array1 y array2.\n",
    "- Identificad los elementos presentes en el array1 pero no en el array2 y asiganarlo a una variable que se llame array3.\n",
    "- Identificad los elementos presentes en el array2 pero no en el array1 y asiganarlo a una variable que se llame array4.\n",
    "- Identificad los elementos presentes en ambos arrays y asiganarlos a una variable que se llame array5.\n",
    "- ¿Cuál es la relación que existe entre todos estos arrays? 💡 Pista 💡 Tendréis que usar las longitudes de cada uno de los arrays creados."
   ]
  },
  {
   "cell_type": "code",
   "execution_count": 33,
   "metadata": {},
   "outputs": [
    {
     "name": "stdout",
     "output_type": "stream",
     "text": [
      "[69 55 26 84 28 57 93  9 56 77 47 50 12  9 62 75 24 89 90 83 83  6 43 47\n",
      " 22 52 74 43 14 19 24 46 96 53 34 55 15 58 62 41 73 66 23  3 87  2 73 52\n",
      " 72 88 78 63 49  1 43 40  4 58 44 54 44 75 99 98 76 60 67 75 92  6 27 68\n",
      " 32 12  4 55  2 14 60 57]\n",
      "-------------------------------\n",
      "[82  9 39  5 71 77 74  6 80 85 60 32 91  8 67 33 47 76 83 45 65 38 48 74\n",
      " 91 85 16 66 53 70 67 90 29 20 18  6 80 11 30 18 82 47  8 18 87 62 65  8\n",
      " 30 56 29 44 99 56  6 51 93 64 53 35 99 84 78 38 90 55  5 44 12 30 77 90\n",
      " 33 51 52 43 24 90 44 89]\n"
     ]
    }
   ],
   "source": [
    "array1 = np.random.randint(1,100,(80))\n",
    "print(array1)\n",
    "print ('-------------------------------')\n",
    "array2 = np.random.randint(1,100,(80))\n",
    "print(array2)"
   ]
  },
  {
   "cell_type": "code",
   "execution_count": 34,
   "metadata": {},
   "outputs": [
    {
     "name": "stdout",
     "output_type": "stream",
     "text": [
      "[ 1  2  3  4  6  9 12 14 15 19 22 23 24 26 27 28 32 34 40 41 43 44 46 47\n",
      " 49 50 52 53 54 55 56 57 58 60 62 63 66 67 68 69 72 73 74 75 76 77 78 83\n",
      " 84 87 88 89 90 92 93 96 98 99]\n",
      "-------------------------------\n",
      "[ 5  6  8  9 11 12 16 18 20 24 29 30 32 33 35 38 39 43 44 45 47 48 51 52\n",
      " 53 55 56 60 62 64 65 66 67 70 71 74 76 77 78 80 82 83 84 85 87 89 90 91\n",
      " 93 99]\n"
     ]
    }
   ],
   "source": [
    "#Valores únicos\n",
    "array1= np.unique(array1)\n",
    "print(array1)\n",
    "print ('-------------------------------')\n",
    "array2= np.unique(array2)\n",
    "print(array2)"
   ]
  },
  {
   "cell_type": "code",
   "execution_count": 35,
   "metadata": {},
   "outputs": [
    {
     "data": {
      "text/plain": [
       "array([ 1,  2,  3,  4, 14, 15, 19, 22, 23, 26, 27, 28, 34, 40, 41, 46, 49,\n",
       "       50, 54, 57, 58, 63, 68, 69, 72, 73, 75, 88, 92, 96, 98])"
      ]
     },
     "execution_count": 35,
     "metadata": {},
     "output_type": "execute_result"
    }
   ],
   "source": [
    "# Diferencia del array1 y el array2\n",
    "array3 = np.setdiff1d(array1,array2)\n",
    "array3"
   ]
  },
  {
   "cell_type": "code",
   "execution_count": 36,
   "metadata": {},
   "outputs": [
    {
     "data": {
      "text/plain": [
       "array([ 5,  8, 11, 16, 18, 20, 29, 30, 33, 35, 38, 39, 45, 48, 51, 64, 65,\n",
       "       70, 71, 80, 82, 85, 91])"
      ]
     },
     "execution_count": 36,
     "metadata": {},
     "output_type": "execute_result"
    }
   ],
   "source": [
    "# Diferencia del array2 y el array1\n",
    "array4 = np.setdiff1d(array2,array1)\n",
    "array4"
   ]
  },
  {
   "cell_type": "code",
   "execution_count": 37,
   "metadata": {},
   "outputs": [
    {
     "data": {
      "text/plain": [
       "array([ 1,  2,  3,  4,  5,  6,  8,  9, 11, 12, 14, 15, 16, 18, 19, 20, 22,\n",
       "       23, 24, 26, 27, 28, 29, 30, 32, 33, 34, 35, 38, 39, 40, 41, 43, 44,\n",
       "       45, 46, 47, 48, 49, 50, 51, 52, 53, 54, 55, 56, 57, 58, 60, 62, 63,\n",
       "       64, 65, 66, 67, 68, 69, 70, 71, 72, 73, 74, 75, 76, 77, 78, 80, 82,\n",
       "       83, 84, 85, 87, 88, 89, 90, 91, 92, 93, 96, 98, 99])"
      ]
     },
     "execution_count": 37,
     "metadata": {},
     "output_type": "execute_result"
    }
   ],
   "source": [
    "# Union de los 2\n",
    "array5 =np.union1d(array1,array2)\n",
    "array5"
   ]
  },
  {
   "cell_type": "code",
   "execution_count": 38,
   "metadata": {},
   "outputs": [
    {
     "data": {
      "text/plain": [
       "58"
      ]
     },
     "execution_count": 38,
     "metadata": {},
     "output_type": "execute_result"
    }
   ],
   "source": [
    "# Valores únicos del 1\n",
    "len(array1)"
   ]
  },
  {
   "cell_type": "code",
   "execution_count": 39,
   "metadata": {},
   "outputs": [
    {
     "data": {
      "text/plain": [
       "50"
      ]
     },
     "execution_count": 39,
     "metadata": {},
     "output_type": "execute_result"
    }
   ],
   "source": [
    "# Valores únicos del 2\n",
    "len(array2)"
   ]
  },
  {
   "cell_type": "code",
   "execution_count": 40,
   "metadata": {},
   "outputs": [
    {
     "data": {
      "text/plain": [
       "31"
      ]
     },
     "execution_count": 40,
     "metadata": {},
     "output_type": "execute_result"
    }
   ],
   "source": [
    "#Diferentes, los que están en el 1 pero no en el 2\n",
    "len(array3)"
   ]
  },
  {
   "cell_type": "code",
   "execution_count": 41,
   "metadata": {},
   "outputs": [
    {
     "data": {
      "text/plain": [
       "23"
      ]
     },
     "execution_count": 41,
     "metadata": {},
     "output_type": "execute_result"
    }
   ],
   "source": [
    "#Diferentes, los que están en el 2 pero no en el 1\n",
    "len(array4)"
   ]
  },
  {
   "cell_type": "code",
   "execution_count": 42,
   "metadata": {},
   "outputs": [
    {
     "data": {
      "text/plain": [
       "81"
      ]
     },
     "execution_count": 42,
     "metadata": {},
     "output_type": "execute_result"
    }
   ],
   "source": [
    "# Union de ambos\n",
    "len(array5)"
   ]
  },
  {
   "cell_type": "code",
   "execution_count": 44,
   "metadata": {},
   "outputs": [
    {
     "data": {
      "text/plain": [
       "True"
      ]
     },
     "execution_count": 44,
     "metadata": {},
     "output_type": "execute_result"
    }
   ],
   "source": [
    "# La len o size del array1 más lo que está en el array2 pero no en el array1 es igual a la len o size de la unión de ambos\n",
    "len(array1) + len(array4) == len(array5)"
   ]
  },
  {
   "cell_type": "code",
   "execution_count": 45,
   "metadata": {},
   "outputs": [
    {
     "data": {
      "text/plain": [
       "True"
      ]
     },
     "execution_count": 45,
     "metadata": {},
     "output_type": "execute_result"
    }
   ],
   "source": [
    "# La len o size del array2 más lo que está en el array1 pero no en el array2 es igual a la len o size de la unión de ambos\n",
    "len(array2) + len(array3) == len(array5)"
   ]
  },
  {
   "attachments": {},
   "cell_type": "markdown",
   "metadata": {},
   "source": [
    "Con los métodos de union y diferencia entre arrays como solo devuelve valores únicos es como utilizar operaciones matemáticas:\n",
    "- setdiff1d: resta los arrays teniendo en cuenta el orden de los factores\n",
    "- union1d: suma los arrays\n",
    "\n",
    "Lo podemos ver en que la longitud del union se corresponde con la suma de la len del array1 y de la len de la diferencia del array2 con el array1, y con las len del array2 y de la diferencia de la len del 1 con el 2.\n"
   ]
  }
 ],
 "metadata": {
  "kernelspec": {
   "display_name": "base",
   "language": "python",
   "name": "python3"
  },
  "language_info": {
   "codemirror_mode": {
    "name": "ipython",
    "version": 3
   },
   "file_extension": ".py",
   "mimetype": "text/x-python",
   "name": "python",
   "nbconvert_exporter": "python",
   "pygments_lexer": "ipython3",
   "version": "3.9.13"
  },
  "orig_nbformat": 4,
  "vscode": {
   "interpreter": {
    "hash": "85c042135e83639dad74b6ec6c9d943b5dc47ca281624d931a3e14168052f53c"
   }
  }
 },
 "nbformat": 4,
 "nbformat_minor": 2
}
