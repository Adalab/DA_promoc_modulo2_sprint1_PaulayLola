{
 "cells": [
  {
   "attachments": {},
   "cell_type": "markdown",
   "metadata": {},
   "source": [
    "1. Cread un array de tres dimensiones de 2 matrices, 3 filas y 5 columnas cuyos valores solo tengan 1 decimales. "
   ]
  },
  {
   "cell_type": "code",
   "execution_count": 2,
   "metadata": {},
   "outputs": [],
   "source": [
    "import numpy as np"
   ]
  },
  {
   "cell_type": "code",
   "execution_count": 3,
   "metadata": {},
   "outputs": [
    {
     "data": {
      "text/plain": [
       "array([[[0.8, 0.7, 0.4, 0.1, 0.1],\n",
       "        [0.2, 0.2, 0.6, 0.9, 0.9],\n",
       "        [0.5, 0.7, 0.3, 0.1, 0.6]],\n",
       "\n",
       "       [[0.7, 0.6, 0.2, 0.5, 0.2],\n",
       "        [0.5, 0.3, 0.7, 0.3, 0.1],\n",
       "        [0.2, 0.9, 0.8, 0.2, 0.4]]])"
      ]
     },
     "execution_count": 3,
     "metadata": {},
     "output_type": "execute_result"
    }
   ],
   "source": [
    "array = np.random.rand(2,3,5)\n",
    "array = np.round(array,decimals = 1) \n",
    "array "
   ]
  },
  {
   "attachments": {},
   "cell_type": "markdown",
   "metadata": {},
   "source": [
    "2. Calculad la media del array y almacenarlos en una variable. Redondead a un decimal."
   ]
  },
  {
   "cell_type": "code",
   "execution_count": 4,
   "metadata": {},
   "outputs": [
    {
     "data": {
      "text/plain": [
       "0.5"
      ]
     },
     "execution_count": 4,
     "metadata": {},
     "output_type": "execute_result"
    }
   ],
   "source": [
    "array_media = np.mean(array).round(decimals = 1)\n",
    "array_media"
   ]
  },
  {
   "attachments": {},
   "cell_type": "markdown",
   "metadata": {},
   "source": [
    "3. Calculad el valor máximo del array y almacenarlos en una variable. Redondead a un decimal."
   ]
  },
  {
   "cell_type": "code",
   "execution_count": 5,
   "metadata": {},
   "outputs": [
    {
     "data": {
      "text/plain": [
       "0.9"
      ]
     },
     "execution_count": 5,
     "metadata": {},
     "output_type": "execute_result"
    }
   ],
   "source": [
    "array_max = np.max(array).round(decimals = 1)\n",
    "array_max"
   ]
  },
  {
   "attachments": {},
   "cell_type": "markdown",
   "metadata": {},
   "source": [
    "4. Calculad el valor mínimo del array y almacenarlos en una variable. Redondead a un decimal."
   ]
  },
  {
   "cell_type": "code",
   "execution_count": 6,
   "metadata": {},
   "outputs": [
    {
     "data": {
      "text/plain": [
       "0.1"
      ]
     },
     "execution_count": 6,
     "metadata": {},
     "output_type": "execute_result"
    }
   ],
   "source": [
    "array_min = np.min(array).round(decimals = 1)\n",
    "array_min"
   ]
  },
  {
   "attachments": {},
   "cell_type": "markdown",
   "metadata": {},
   "source": [
    "5. Cread un array vacío con la misma forma y dimensiones que el array creado anteriormente.\n",
    "Vamos a reemplazar los valores de la matriz vacía que nos acabamos de crear pero basándonos en los valores del primer array bajo las siguientes condiciones:"
   ]
  },
  {
   "cell_type": "code",
   "execution_count": 7,
   "metadata": {},
   "outputs": [
    {
     "data": {
      "text/plain": [
       "array([[[0.8, 0.7, 0.4, 0.1, 0.1],\n",
       "        [0.2, 0.2, 0.6, 0.9, 0.9],\n",
       "        [0.5, 0.7, 0.3, 0.1, 0.6]],\n",
       "\n",
       "       [[0.7, 0.6, 0.2, 0.5, 0.2],\n",
       "        [0.5, 0.3, 0.7, 0.3, 0.1],\n",
       "        [0.2, 0.9, 0.8, 0.2, 0.4]]])"
      ]
     },
     "execution_count": 7,
     "metadata": {},
     "output_type": "execute_result"
    }
   ],
   "source": [
    "array_vacio = np.empty_like(array)\n",
    "array_vacio"
   ]
  },
  {
   "attachments": {},
   "cell_type": "markdown",
   "metadata": {},
   "source": [
    "- Si el valor del array es igual que la media, se reemplaza por \"A\".\n",
    "- Si el valor del array es mayor que la media, se reemplaza por \"B\".\n",
    "- Si el valor del array es menor que la media, se reemplaza por \"C\".\n",
    "- Si el valor es igual que el máximo, se reemplaza por \"D\".\n",
    "- Si el valor es igual que el mínimo, se reemplaza por \"E\"."
   ]
  },
  {
   "cell_type": "code",
   "execution_count": 8,
   "metadata": {},
   "outputs": [
    {
     "data": {
      "text/plain": [
       "array([[[0.8, 0.7, 0.4, 0.1, 0.1],\n",
       "        [0.2, 0.2, 0.6, 0.9, 0.9],\n",
       "        [0.5, 0.7, 0.3, 0.1, 0.6]],\n",
       "\n",
       "       [[0.7, 0.6, 0.2, 0.5, 0.2],\n",
       "        [0.5, 0.3, 0.7, 0.3, 0.1],\n",
       "        [0.2, 0.9, 0.8, 0.2, 0.4]]])"
      ]
     },
     "execution_count": 8,
     "metadata": {},
     "output_type": "execute_result"
    }
   ],
   "source": [
    "array"
   ]
  },
  {
   "cell_type": "code",
   "execution_count": 9,
   "metadata": {},
   "outputs": [],
   "source": [
    "array_vacio = array_vacio.astype(str) # convertimos los valores en string"
   ]
  },
  {
   "cell_type": "code",
   "execution_count": 20,
   "metadata": {},
   "outputs": [],
   "source": [
    "for arr  in range(array_vacio.shape[0]):  # sacar índice del eje 0 o array\n",
    "    for fila  in range(array_vacio.shape[1]): # sacar índice del eje 1 o filas\n",
    "        for columna  in range(array_vacio.shape[2]): # sacar índice del eje 1 o columnas\n",
    "            if array[arr, fila, columna] == array_media: # creamos la condición y sustituye según los índices \n",
    "                array_vacio[arr, fila, columna] = 'A'\n",
    "            if array[arr, fila, columna] > array_media:\n",
    "                array_vacio[arr, fila, columna] = 'B'\n",
    "            if array[arr, fila, columna] < array_media:\n",
    "                array_vacio[arr, fila, columna] = 'C'\n",
    "            if array[arr, fila, columna] == array_max:\n",
    "                array_vacio[arr, fila, columna] = 'D'\n",
    "            if array[arr, fila, columna] == array_min:\n",
    "                array_vacio[arr, fila, columna] = 'E'\n",
    "            "
   ]
  },
  {
   "cell_type": "code",
   "execution_count": 21,
   "metadata": {},
   "outputs": [
    {
     "name": "stdout",
     "output_type": "stream",
     "text": [
      "[[['B' 'B' 'C' 'E' 'E']\n",
      "  ['C' 'C' 'B' 'D' 'D']\n",
      "  ['A' 'B' 'C' 'E' 'B']]\n",
      "\n",
      " [['B' 'B' 'C' 'A' 'C']\n",
      "  ['A' 'C' 'B' 'C' 'E']\n",
      "  ['C' 'D' 'B' 'C' 'C']]]\n"
     ]
    }
   ],
   "source": [
    "print(array_vacio)"
   ]
  },
  {
   "attachments": {},
   "cell_type": "markdown",
   "metadata": {},
   "source": [
    "6. Estupendo, tenemos un array con strings. Ahora realizaremos un ejercicio similar al anterior, pero en este caso nos crearemos un array vacío unidimensional de 30 elementos. Al final de este ejercicio acabaremos teniendo un array de tres dimensiones con la misma forma que el primero que nos creamos."
   ]
  },
  {
   "cell_type": "code",
   "execution_count": 23,
   "metadata": {},
   "outputs": [
    {
     "data": {
      "text/plain": [
       "array([0.8, 0.7, 0.4, 0.1, 0.1, 0.2, 0.2, 0.6, 0.9, 0.9, 0.5, 0.7, 0.3,\n",
       "       0.1, 0.6, 0.7, 0.6, 0.2, 0.5, 0.2, 0.5, 0.3, 0.7, 0.3, 0.1, 0.2,\n",
       "       0.9, 0.8, 0.2, 0.4])"
      ]
     },
     "execution_count": 23,
     "metadata": {},
     "output_type": "execute_result"
    }
   ],
   "source": [
    "unidimensional=np.empty(30)\n",
    "unidimensional"
   ]
  }
 ],
 "metadata": {
  "kernelspec": {
   "display_name": "base",
   "language": "python",
   "name": "python3"
  },
  "language_info": {
   "codemirror_mode": {
    "name": "ipython",
    "version": 3
   },
   "file_extension": ".py",
   "mimetype": "text/x-python",
   "name": "python",
   "nbconvert_exporter": "python",
   "pygments_lexer": "ipython3",
   "version": "3.9.7"
  },
  "orig_nbformat": 4,
  "vscode": {
   "interpreter": {
    "hash": "4b1ecc98482ac3f78e7638a36d488665c227c7cb0420745d3c03f1c165a0d66a"
   }
  }
 },
 "nbformat": 4,
 "nbformat_minor": 2
}
