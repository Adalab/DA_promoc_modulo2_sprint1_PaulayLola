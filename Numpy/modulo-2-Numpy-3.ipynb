{
 "cells": [
  {
   "attachments": {},
   "cell_type": "markdown",
   "metadata": {},
   "source": [
    "1. Cread un array de tres dimensiones de 2 matrices, 3 filas y 5 columnas cuyos valores solo tengan 1 decimales. "
   ]
  },
  {
   "cell_type": "code",
   "execution_count": 1,
   "metadata": {},
   "outputs": [],
   "source": [
    "import numpy as np"
   ]
  },
  {
   "cell_type": "code",
   "execution_count": 2,
   "metadata": {},
   "outputs": [
    {
     "data": {
      "text/plain": [
       "array([[[0.6, 0.8, 0.4, 0.6, 0.4],\n",
       "        [0.2, 0.3, 0.6, 0.2, 0.5],\n",
       "        [0.8, 0.6, 0.9, 0.4, 0.3]],\n",
       "\n",
       "       [[0.1, 0.4, 0.6, 0.1, 0.4],\n",
       "        [0.6, 0.2, 0.1, 0.3, 0. ],\n",
       "        [0. , 0.4, 0.8, 0.1, 0.6]]])"
      ]
     },
     "execution_count": 2,
     "metadata": {},
     "output_type": "execute_result"
    }
   ],
   "source": [
    "array = np.random.rand(2,3,5)\n",
    "array = np.round(array,decimals = 1) #Usamos .round para redondear los decimales del array random a 1 decimal\n",
    "array "
   ]
  },
  {
   "attachments": {},
   "cell_type": "markdown",
   "metadata": {},
   "source": [
    "2. Calculad la media del array y almacenarlos en una variable. Redondead a un decimal."
   ]
  },
  {
   "cell_type": "code",
   "execution_count": 3,
   "metadata": {},
   "outputs": [
    {
     "data": {
      "text/plain": [
       "0.4"
      ]
     },
     "execution_count": 3,
     "metadata": {},
     "output_type": "execute_result"
    }
   ],
   "source": [
    "array_media = np.mean(array).round(decimals = 1)\n",
    "array_media"
   ]
  },
  {
   "attachments": {},
   "cell_type": "markdown",
   "metadata": {},
   "source": [
    "3. Calculad el valor máximo del array y almacenarlos en una variable. Redondead a un decimal."
   ]
  },
  {
   "cell_type": "code",
   "execution_count": 4,
   "metadata": {},
   "outputs": [
    {
     "data": {
      "text/plain": [
       "0.9"
      ]
     },
     "execution_count": 4,
     "metadata": {},
     "output_type": "execute_result"
    }
   ],
   "source": [
    "array_max = np.max(array).round(decimals = 1)\n",
    "array_max"
   ]
  },
  {
   "attachments": {},
   "cell_type": "markdown",
   "metadata": {},
   "source": [
    "4. Calculad el valor mínimo del array y almacenarlos en una variable. Redondead a un decimal."
   ]
  },
  {
   "cell_type": "code",
   "execution_count": 5,
   "metadata": {},
   "outputs": [
    {
     "data": {
      "text/plain": [
       "0.0"
      ]
     },
     "execution_count": 5,
     "metadata": {},
     "output_type": "execute_result"
    }
   ],
   "source": [
    "array_min = np.min(array).round(decimals = 1)\n",
    "array_min"
   ]
  },
  {
   "attachments": {},
   "cell_type": "markdown",
   "metadata": {},
   "source": [
    "5. Cread un array vacío con la misma forma y dimensiones que el array creado anteriormente.\n",
    "Vamos a reemplazar los valores de la matriz vacía que nos acabamos de crear pero basándonos en los valores del primer array bajo las siguientes condiciones:"
   ]
  },
  {
   "cell_type": "code",
   "execution_count": 6,
   "metadata": {},
   "outputs": [
    {
     "data": {
      "text/plain": [
       "array([[[0.6, 0.8, 0.4, 0.6, 0.4],\n",
       "        [0.2, 0.3, 0.6, 0.2, 0.5],\n",
       "        [0.8, 0.6, 0.9, 0.4, 0.3]],\n",
       "\n",
       "       [[0.1, 0.4, 0.6, 0.1, 0.4],\n",
       "        [0.6, 0.2, 0.1, 0.3, 0. ],\n",
       "        [0. , 0.4, 0.8, 0.1, 0.6]]])"
      ]
     },
     "execution_count": 6,
     "metadata": {},
     "output_type": "execute_result"
    }
   ],
   "source": [
    "#Creamos un array vacio con el metodo empty_like\n",
    "array_vacio = np.empty_like(array)\n",
    "array_vacio"
   ]
  },
  {
   "attachments": {},
   "cell_type": "markdown",
   "metadata": {},
   "source": [
    "- Si el valor del array es igual que la media, se reemplaza por \"A\".\n",
    "- Si el valor del array es mayor que la media, se reemplaza por \"B\".\n",
    "- Si el valor del array es menor que la media, se reemplaza por \"C\".\n",
    "- Si el valor es igual que el máximo, se reemplaza por \"D\".\n",
    "- Si el valor es igual que el mínimo, se reemplaza por \"E\"."
   ]
  },
  {
   "cell_type": "code",
   "execution_count": 7,
   "metadata": {},
   "outputs": [],
   "source": [
    "array_vacio = array_vacio.astype(str) # convertimos los valores en string"
   ]
  },
  {
   "cell_type": "code",
   "execution_count": 8,
   "metadata": {},
   "outputs": [],
   "source": [
    "#Creamos un for loop en el que iteramos por todos los indices del array haciendo las modificaciones indicadas\n",
    "for arr  in range(array_vacio.shape[0]):  # Sacar índice del eje 0 o array\n",
    "    for fila  in range(array_vacio.shape[1]): # Sacar índice del eje 1 o filas\n",
    "        for columna  in range(array_vacio.shape[2]): # Sacar índice del eje 1 o columnas\n",
    "            if array[arr, fila, columna] == array_media: # Creamos la condición y sustituye según los índices \n",
    "                array_vacio[arr, fila, columna] = 'A'\n",
    "            if array[arr, fila, columna] > array_media:\n",
    "                array_vacio[arr, fila, columna] = 'B'\n",
    "            if array[arr, fila, columna] < array_media:\n",
    "                array_vacio[arr, fila, columna] = 'C'\n",
    "            if array[arr, fila, columna] == array_max:\n",
    "                array_vacio[arr, fila, columna] = 'D'\n",
    "            if array[arr, fila, columna] == array_min:\n",
    "                array_vacio[arr, fila, columna] = 'E'\n",
    "            "
   ]
  },
  {
   "cell_type": "code",
   "execution_count": 9,
   "metadata": {},
   "outputs": [
    {
     "name": "stdout",
     "output_type": "stream",
     "text": [
      "[[['B' 'B' 'A' 'B' 'A']\n",
      "  ['C' 'C' 'B' 'C' 'B']\n",
      "  ['B' 'B' 'D' 'A' 'C']]\n",
      "\n",
      " [['C' 'A' 'B' 'C' 'A']\n",
      "  ['B' 'C' 'C' 'C' 'E']\n",
      "  ['E' 'A' 'B' 'C' 'B']]]\n"
     ]
    }
   ],
   "source": [
    "print(array_vacio)"
   ]
  },
  {
   "attachments": {},
   "cell_type": "markdown",
   "metadata": {},
   "source": [
    "6. Estupendo, tenemos un array con strings. Ahora realizaremos un ejercicio similar al anterior, pero en este caso nos crearemos un array vacío unidimensional de 30 elementos. Al final de este ejercicio acabaremos teniendo un array de tres dimensiones con la misma forma que el primero que nos creamos.\n",
    "- Si el valor del array creado en el ejercicio anterior es \"A\" o \"B\" lo reemplazaremos por 1\n",
    "- Si el valor del array creado en el ejercicio anterior es \"C\" o \"D\" lo reemplazaremos por 2\n",
    "- Si el valor del array creado en el ejercicio anterior es \"E\" lo reemplazaremos por 3."
   ]
  },
  {
   "cell_type": "code",
   "execution_count": 10,
   "metadata": {},
   "outputs": [
    {
     "data": {
      "text/plain": [
       "array([0.6, 0.8, 0.4, 0.6, 0.4, 0.2, 0.3, 0.6, 0.2, 0.5, 0.8, 0.6, 0.9,\n",
       "       0.4, 0.3, 0.1, 0.4, 0.6, 0.1, 0.4, 0.6, 0.2, 0.1, 0.3, 0. , 0. ,\n",
       "       0.4, 0.8, 0.1, 0.6])"
      ]
     },
     "execution_count": 10,
     "metadata": {},
     "output_type": "execute_result"
    }
   ],
   "source": [
    "unidimensional=np.empty(30)\n",
    "unidimensional"
   ]
  },
  {
   "cell_type": "code",
   "execution_count": 13,
   "metadata": {},
   "outputs": [
    {
     "data": {
      "text/plain": [
       "array(['D', 'B', 'D', 'C', 'C', 'B', 'B', 'E', 'C', 'B', 'C', 'B', 'C',\n",
       "       'E', 'B', 'B', 'E', 'B', 'C', 'B', 'C', 'B', 'E', 'A', 'C', 'B',\n",
       "       'B', 'C', 'B', 'C'], dtype='<U32')"
      ]
     },
     "execution_count": 13,
     "metadata": {},
     "output_type": "execute_result"
    }
   ],
   "source": [
    "array_30 = np.reshape(array_vacio,(30)) #Cambiamos la forma al array_vacío a uno unidimensional de 30, igual que el anterior\n",
    "array_30"
   ]
  },
  {
   "cell_type": "code",
   "execution_count": 14,
   "metadata": {},
   "outputs": [],
   "source": [
    "for i in range(len(array_30)): # Iteramos por los indices del array30 (por los números en el rango de 0 a la longitud del array)\n",
    "    if array_30[i] =='A' or  array_30[i] == 'B': # Creamos las condiciones para que para cada indice sustituya las letras por los números indicados.\n",
    "        unidimensional[i] = 1\n",
    "    if array_30[i] =='C' or array_30[i] =='D':\n",
    "        unidimensional[i] = 2\n",
    "    if array_30[i] =='E' :\n",
    "        unidimensional[i] = 3"
   ]
  },
  {
   "cell_type": "code",
   "execution_count": 15,
   "metadata": {},
   "outputs": [
    {
     "data": {
      "text/plain": [
       "array([2., 1., 2., 2., 2., 1., 1., 3., 2., 1., 2., 1., 2., 3., 1., 1., 3.,\n",
       "       1., 2., 1., 2., 1., 3., 1., 2., 1., 1., 2., 1., 2.])"
      ]
     },
     "execution_count": 15,
     "metadata": {},
     "output_type": "execute_result"
    }
   ],
   "source": [
    "unidimensional"
   ]
  },
  {
   "attachments": {},
   "cell_type": "markdown",
   "metadata": {},
   "source": [
    "Una vez que hayas reemplazado todos los valores cambiad la forma del array para que sea de tres dimensiones, con 2 matrices, 3 filas y 5 columnas."
   ]
  },
  {
   "cell_type": "code",
   "execution_count": 16,
   "metadata": {},
   "outputs": [
    {
     "data": {
      "text/plain": [
       "array([[[2., 1., 2., 2., 2.],\n",
       "        [1., 1., 3., 2., 1.],\n",
       "        [2., 1., 2., 3., 1.]],\n",
       "\n",
       "       [[1., 3., 1., 2., 1.],\n",
       "        [2., 1., 3., 1., 2.],\n",
       "        [1., 1., 2., 1., 2.]]])"
      ]
     },
     "execution_count": 16,
     "metadata": {},
     "output_type": "execute_result"
    }
   ],
   "source": [
    "# Cambiamos la forma del array a la forma original, tridimensional con el metodo reshape\n",
    "array_final = np.reshape(unidimensional,(2,3,5)) \n",
    "array_final"
   ]
  }
 ],
 "metadata": {
  "kernelspec": {
   "display_name": "base",
   "language": "python",
   "name": "python3"
  },
  "language_info": {
   "codemirror_mode": {
    "name": "ipython",
    "version": 3
   },
   "file_extension": ".py",
   "mimetype": "text/x-python",
   "name": "python",
   "nbconvert_exporter": "python",
   "pygments_lexer": "ipython3",
   "version": "3.9.13"
  },
  "orig_nbformat": 4,
  "vscode": {
   "interpreter": {
    "hash": "85c042135e83639dad74b6ec6c9d943b5dc47ca281624d931a3e14168052f53c"
   }
  }
 },
 "nbformat": 4,
 "nbformat_minor": 2
}
