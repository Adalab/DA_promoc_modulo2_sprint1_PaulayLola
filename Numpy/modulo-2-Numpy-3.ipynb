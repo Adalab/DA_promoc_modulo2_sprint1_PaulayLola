{
 "cells": [
  {
   "attachments": {},
   "cell_type": "markdown",
   "metadata": {},
   "source": [
    "1. Cread un array de tres dimensiones de 2 matrices, 3 filas y 5 columnas cuyos valores solo tengan 1 decimales. "
   ]
  },
  {
   "cell_type": "code",
   "execution_count": 50,
   "metadata": {},
   "outputs": [],
   "source": [
    "import numpy as np"
   ]
  },
  {
   "cell_type": "code",
   "execution_count": 35,
   "metadata": {},
   "outputs": [
    {
     "data": {
      "text/plain": [
       "array([[[0.7, 0.3, 0. , 0.1, 0.5],\n",
       "        [0.9, 0.7, 0.2, 0.3, 1. ],\n",
       "        [0. , 0.5, 0.5, 0.6, 0.4]],\n",
       "\n",
       "       [[0.8, 0.9, 0.2, 0.4, 0.2],\n",
       "        [0.6, 0.5, 0.4, 0.6, 0.9],\n",
       "        [0.9, 0.6, 0.1, 0.4, 0.9]]])"
      ]
     },
     "execution_count": 35,
     "metadata": {},
     "output_type": "execute_result"
    }
   ],
   "source": [
    "array = np.random.rand(2,3,5)\n",
    "array = np.round(array,decimals = 1) \n",
    "array "
   ]
  },
  {
   "attachments": {},
   "cell_type": "markdown",
   "metadata": {},
   "source": [
    "2. Calculad la media del array y almacenarlos en una variable. Redondead a un decimal."
   ]
  },
  {
   "cell_type": "code",
   "execution_count": 36,
   "metadata": {},
   "outputs": [
    {
     "data": {
      "text/plain": [
       "0.5"
      ]
     },
     "execution_count": 36,
     "metadata": {},
     "output_type": "execute_result"
    }
   ],
   "source": [
    "array_media = np.mean(array).round(decimals = 1)\n",
    "array_media"
   ]
  },
  {
   "attachments": {},
   "cell_type": "markdown",
   "metadata": {},
   "source": [
    "3. Calculad el valor máximo del array y almacenarlos en una variable. Redondead a un decimal."
   ]
  },
  {
   "cell_type": "code",
   "execution_count": 37,
   "metadata": {},
   "outputs": [
    {
     "data": {
      "text/plain": [
       "1.0"
      ]
     },
     "execution_count": 37,
     "metadata": {},
     "output_type": "execute_result"
    }
   ],
   "source": [
    "array_max = np.max(array).round(decimals = 1)\n",
    "array_max"
   ]
  },
  {
   "attachments": {},
   "cell_type": "markdown",
   "metadata": {},
   "source": [
    "4. Calculad el valor mínimo del array y almacenarlos en una variable. Redondead a un decimal."
   ]
  },
  {
   "cell_type": "code",
   "execution_count": 38,
   "metadata": {},
   "outputs": [
    {
     "data": {
      "text/plain": [
       "0.0"
      ]
     },
     "execution_count": 38,
     "metadata": {},
     "output_type": "execute_result"
    }
   ],
   "source": [
    "array_min = np.min(array).round(decimals = 1)\n",
    "array_min"
   ]
  },
  {
   "attachments": {},
   "cell_type": "markdown",
   "metadata": {},
   "source": [
    "5. Cread un array vacío con la misma forma y dimensiones que el array creado anteriormente.\n",
    "Vamos a reemplazar los valores de la matriz vacía que nos acabamos de crear pero basándonos en los valores del primer array bajo las siguientes condiciones:"
   ]
  },
  {
   "cell_type": "code",
   "execution_count": 39,
   "metadata": {},
   "outputs": [
    {
     "data": {
      "text/plain": [
       "array([[[0.7, 0.3, 0. , 0.1, 0.5],\n",
       "        [0.9, 0.7, 0.2, 0.3, 1. ],\n",
       "        [0. , 0.5, 0.5, 0.6, 0.4]],\n",
       "\n",
       "       [[0.8, 0.9, 0.2, 0.4, 0.2],\n",
       "        [0.6, 0.5, 0.4, 0.6, 0.9],\n",
       "        [0.9, 0.6, 0.1, 0.4, 0.9]]])"
      ]
     },
     "execution_count": 39,
     "metadata": {},
     "output_type": "execute_result"
    }
   ],
   "source": [
    "array_vacio = np.empty_like(array)\n",
    "array_vacio"
   ]
  },
  {
   "attachments": {},
   "cell_type": "markdown",
   "metadata": {},
   "source": [
    "- Si el valor del array es igual que la media, se reemplaza por \"A\".\n",
    "- Si el valor del array es mayor que la media, se reemplaza por \"B\".\n",
    "- Si el valor del array es menor que la media, se reemplaza por \"C\".\n",
    "- Si el valor es igual que el máximo, se reemplaza por \"D\".\n",
    "- Si el valor es igual que el mínimo, se reemplaza por \"E\"."
   ]
  },
  {
   "cell_type": "code",
   "execution_count": 40,
   "metadata": {},
   "outputs": [
    {
     "data": {
      "text/plain": [
       "array([[[0.7, 0.3, 0. , 0.1, 0.5],\n",
       "        [0.9, 0.7, 0.2, 0.3, 1. ],\n",
       "        [0. , 0.5, 0.5, 0.6, 0.4]],\n",
       "\n",
       "       [[0.8, 0.9, 0.2, 0.4, 0.2],\n",
       "        [0.6, 0.5, 0.4, 0.6, 0.9],\n",
       "        [0.9, 0.6, 0.1, 0.4, 0.9]]])"
      ]
     },
     "execution_count": 40,
     "metadata": {},
     "output_type": "execute_result"
    }
   ],
   "source": [
    "array"
   ]
  },
  {
   "cell_type": "code",
   "execution_count": 41,
   "metadata": {},
   "outputs": [],
   "source": [
    "array_vacio = array_vacio.astype(str) # convertimos los valores en string"
   ]
  },
  {
   "cell_type": "code",
   "execution_count": 42,
   "metadata": {},
   "outputs": [],
   "source": [
    "for arr  in range(array_vacio.shape[0]):  # sacar índice del eje 0 o array\n",
    "    for fila  in range(array_vacio.shape[1]): # sacar índice del eje 1 o filas\n",
    "        for columna  in range(array_vacio.shape[2]): # sacar índice del eje 1 o columnas\n",
    "            if array[arr, fila, columna] == array_media: # creamos la condición y sustituye según los índices \n",
    "                array_vacio[arr, fila, columna] = 'A'\n",
    "            if array[arr, fila, columna] > array_media:\n",
    "                array_vacio[arr, fila, columna] = 'B'\n",
    "            if array[arr, fila, columna] < array_media:\n",
    "                array_vacio[arr, fila, columna] = 'C'\n",
    "            if array[arr, fila, columna] == array_max:\n",
    "                array_vacio[arr, fila, columna] = 'D'\n",
    "            if array[arr, fila, columna] == array_min:\n",
    "                array_vacio[arr, fila, columna] = 'E'\n",
    "            "
   ]
  },
  {
   "cell_type": "code",
   "execution_count": 43,
   "metadata": {},
   "outputs": [
    {
     "name": "stdout",
     "output_type": "stream",
     "text": [
      "[[['B' 'C' 'E' 'C' 'A']\n",
      "  ['B' 'B' 'C' 'C' 'D']\n",
      "  ['E' 'A' 'A' 'B' 'C']]\n",
      "\n",
      " [['B' 'B' 'C' 'C' 'C']\n",
      "  ['B' 'A' 'C' 'B' 'B']\n",
      "  ['B' 'B' 'C' 'C' 'B']]]\n"
     ]
    }
   ],
   "source": [
    "print(array_vacio)"
   ]
  },
  {
   "attachments": {},
   "cell_type": "markdown",
   "metadata": {},
   "source": [
    "6. Estupendo, tenemos un array con strings. Ahora realizaremos un ejercicio similar al anterior, pero en este caso nos crearemos un array vacío unidimensional de 30 elementos. Al final de este ejercicio acabaremos teniendo un array de tres dimensiones con la misma forma que el primero que nos creamos."
   ]
  },
  {
   "cell_type": "code",
   "execution_count": 44,
   "metadata": {},
   "outputs": [
    {
     "data": {
      "text/plain": [
       "array([0.7, 0.3, 0. , 0.1, 0.5, 0.9, 0.7, 0.2, 0.3, 1. , 0. , 0.5, 0.5,\n",
       "       0.6, 0.4, 0.8, 0.9, 0.2, 0.4, 0.2, 0.6, 0.5, 0.4, 0.6, 0.9, 0.9,\n",
       "       0.6, 0.1, 0.4, 0.9])"
      ]
     },
     "execution_count": 44,
     "metadata": {},
     "output_type": "execute_result"
    }
   ],
   "source": [
    "unidimensional=np.empty(30)\n",
    "unidimensional"
   ]
  },
  {
   "attachments": {},
   "cell_type": "markdown",
   "metadata": {},
   "source": [
    "- Si el valor del array creado en el ejercicio anterior es \"A\" o \"B\" lo reemplazaremos por 1"
   ]
  },
  {
   "cell_type": "code",
   "execution_count": 45,
   "metadata": {},
   "outputs": [
    {
     "data": {
      "text/plain": [
       "array(['B', 'C', 'E', 'C', 'A', 'B', 'B', 'C', 'C', 'D', 'E', 'A', 'A',\n",
       "       'B', 'C', 'B', 'B', 'C', 'C', 'C', 'B', 'A', 'C', 'B', 'B', 'B',\n",
       "       'B', 'C', 'C', 'B'], dtype='<U32')"
      ]
     },
     "execution_count": 45,
     "metadata": {},
     "output_type": "execute_result"
    }
   ],
   "source": [
    "array_30 = np.reshape(array_vacio,(30))\n",
    "array_30"
   ]
  },
  {
   "cell_type": "code",
   "execution_count": 57,
   "metadata": {},
   "outputs": [],
   "source": [
    "for i in range(len(array_30)):\n",
    "    if array_30[i] =='A' or 'B':\n",
    "        unidimensional[i] = 1\n",
    "    if array_30[i] =='C' or 'D':\n",
    "        unidimensional[i] = 2\n",
    "    if array_30[i] =='E' :\n",
    "        unidimensional[i] = 3"
   ]
  },
  {
   "cell_type": "code",
   "execution_count": 59,
   "metadata": {},
   "outputs": [
    {
     "data": {
      "text/plain": [
       "array([2., 2., 3., 2., 2., 2., 2., 2., 2., 2., 3., 2., 2., 2., 2., 2., 2.,\n",
       "       2., 2., 2., 2., 2., 2., 2., 2., 2., 2., 2., 2., 2.])"
      ]
     },
     "execution_count": 59,
     "metadata": {},
     "output_type": "execute_result"
    }
   ],
   "source": [
    "unidimensional"
   ]
  },
  {
   "cell_type": "code",
   "execution_count": 55,
   "metadata": {},
   "outputs": [
    {
     "data": {
      "text/plain": [
       "array([[[2., 2., 3., 2., 2.],\n",
       "        [2., 2., 2., 2., 2.],\n",
       "        [3., 2., 2., 2., 2.]],\n",
       "\n",
       "       [[2., 2., 2., 2., 2.],\n",
       "        [2., 2., 2., 2., 2.],\n",
       "        [2., 2., 2., 2., 2.]]])"
      ]
     },
     "execution_count": 55,
     "metadata": {},
     "output_type": "execute_result"
    }
   ],
   "source": [
    "array_final = np.reshape(unidimensional,(2,3,5))\n",
    "array_final"
   ]
  }
 ],
 "metadata": {
  "kernelspec": {
   "display_name": "base",
   "language": "python",
   "name": "python3"
  },
  "language_info": {
   "codemirror_mode": {
    "name": "ipython",
    "version": 3
   },
   "file_extension": ".py",
   "mimetype": "text/x-python",
   "name": "python",
   "nbconvert_exporter": "python",
   "pygments_lexer": "ipython3",
   "version": "3.9.7"
  },
  "orig_nbformat": 4,
  "vscode": {
   "interpreter": {
    "hash": "4b1ecc98482ac3f78e7638a36d488665c227c7cb0420745d3c03f1c165a0d66a"
   }
  }
 },
 "nbformat": 4,
 "nbformat_minor": 2
}
