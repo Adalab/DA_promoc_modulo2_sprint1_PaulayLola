{
 "cells": [
  {
   "attachments": {},
   "cell_type": "markdown",
   "metadata": {},
   "source": [
    "1. Extraer los siguentes estadísiticos del conjunto de datos para varias de las varibles disponibles:\n",
    "\n",
    "- Tabla de contingencia:"
   ]
  },
  {
   "cell_type": "code",
   "execution_count": 1,
   "metadata": {},
   "outputs": [],
   "source": [
    "import pandas as pd \n",
    "import seaborn as sns\n",
    "import numpy as np\n",
    "from scipy.stats import skew\n",
    "import scipy.stats as st\n",
    "import matplotlib.pyplot as plt"
   ]
  },
  {
   "cell_type": "code",
   "execution_count": 2,
   "metadata": {},
   "outputs": [],
   "source": [
    "df = pd.read_csv('sephora_website_dataset.csv') "
   ]
  },
  {
   "cell_type": "code",
   "execution_count": 3,
   "metadata": {},
   "outputs": [
    {
     "name": "stdout",
     "output_type": "stream",
     "text": [
      "<class 'pandas.core.frame.DataFrame'>\n",
      "RangeIndex: 9168 entries, 0 to 9167\n",
      "Data columns (total 21 columns):\n",
      " #   Column                  Non-Null Count  Dtype  \n",
      "---  ------                  --------------  -----  \n",
      " 0   id                      9168 non-null   int64  \n",
      " 1   brand                   9168 non-null   object \n",
      " 2   category                9168 non-null   object \n",
      " 3   name                    9168 non-null   object \n",
      " 4   size                    9168 non-null   object \n",
      " 5   rating                  9168 non-null   float64\n",
      " 6   number_of_reviews       9168 non-null   int64  \n",
      " 7   love                    9168 non-null   int64  \n",
      " 8   price                   9168 non-null   float64\n",
      " 9   value_price             9168 non-null   float64\n",
      " 10  URL                     9168 non-null   object \n",
      " 11  MarketingFlags          9168 non-null   bool   \n",
      " 12  MarketingFlags_content  9168 non-null   object \n",
      " 13  options                 9168 non-null   object \n",
      " 14  details                 9168 non-null   object \n",
      " 15  how_to_use              9168 non-null   object \n",
      " 16  ingredients             9168 non-null   object \n",
      " 17  online_only             9168 non-null   int64  \n",
      " 18  exclusive               9168 non-null   int64  \n",
      " 19  limited_edition         9168 non-null   int64  \n",
      " 20  limited_time_offer      9168 non-null   int64  \n",
      "dtypes: bool(1), float64(3), int64(7), object(10)\n",
      "memory usage: 1.4+ MB\n"
     ]
    }
   ],
   "source": [
    "df.info()"
   ]
  },
  {
   "cell_type": "code",
   "execution_count": 4,
   "metadata": {},
   "outputs": [],
   "source": [
    "def cambiar_precio(col):\n",
    "    if col <= 25:\n",
    "        return \"bajo\"\n",
    "    elif col > 25 and col <= 100:\n",
    "        return \"medio\"\n",
    "    else:\n",
    "        return \"alto\"\n",
    "\n",
    "\n",
    "# aplicamos la función a nuestra columna\n",
    "df[\"rango_precio\"] = df[\"price\"].apply(cambiar_precio)\n",
    "\n"
   ]
  },
  {
   "cell_type": "code",
   "execution_count": 5,
   "metadata": {},
   "outputs": [
    {
     "data": {
      "text/html": [
       "<div>\n",
       "<style scoped>\n",
       "    .dataframe tbody tr th:only-of-type {\n",
       "        vertical-align: middle;\n",
       "    }\n",
       "\n",
       "    .dataframe tbody tr th {\n",
       "        vertical-align: top;\n",
       "    }\n",
       "\n",
       "    .dataframe thead th {\n",
       "        text-align: right;\n",
       "    }\n",
       "</style>\n",
       "<table border=\"1\" class=\"dataframe\">\n",
       "  <thead>\n",
       "    <tr style=\"text-align: right;\">\n",
       "      <th>rango_precio</th>\n",
       "      <th>alto</th>\n",
       "      <th>bajo</th>\n",
       "      <th>medio</th>\n",
       "      <th>All</th>\n",
       "    </tr>\n",
       "    <tr>\n",
       "      <th>brand</th>\n",
       "      <th></th>\n",
       "      <th></th>\n",
       "      <th></th>\n",
       "      <th></th>\n",
       "    </tr>\n",
       "  </thead>\n",
       "  <tbody>\n",
       "    <tr>\n",
       "      <th>8Greens</th>\n",
       "      <td>0</td>\n",
       "      <td>2</td>\n",
       "      <td>1</td>\n",
       "      <td>3</td>\n",
       "    </tr>\n",
       "    <tr>\n",
       "      <th>AERIN</th>\n",
       "      <td>14</td>\n",
       "      <td>1</td>\n",
       "      <td>7</td>\n",
       "      <td>22</td>\n",
       "    </tr>\n",
       "    <tr>\n",
       "      <th>ALTERNA Haircare</th>\n",
       "      <td>0</td>\n",
       "      <td>5</td>\n",
       "      <td>37</td>\n",
       "      <td>42</td>\n",
       "    </tr>\n",
       "    <tr>\n",
       "      <th>AMOREPACIFIC</th>\n",
       "      <td>11</td>\n",
       "      <td>4</td>\n",
       "      <td>18</td>\n",
       "      <td>33</td>\n",
       "    </tr>\n",
       "    <tr>\n",
       "      <th>Acqua Di Parma</th>\n",
       "      <td>25</td>\n",
       "      <td>0</td>\n",
       "      <td>10</td>\n",
       "      <td>35</td>\n",
       "    </tr>\n",
       "    <tr>\n",
       "      <th>...</th>\n",
       "      <td>...</td>\n",
       "      <td>...</td>\n",
       "      <td>...</td>\n",
       "      <td>...</td>\n",
       "    </tr>\n",
       "    <tr>\n",
       "      <th>stila</th>\n",
       "      <td>0</td>\n",
       "      <td>6</td>\n",
       "      <td>1</td>\n",
       "      <td>7</td>\n",
       "    </tr>\n",
       "    <tr>\n",
       "      <th>surratt beauty</th>\n",
       "      <td>3</td>\n",
       "      <td>4</td>\n",
       "      <td>18</td>\n",
       "      <td>25</td>\n",
       "    </tr>\n",
       "    <tr>\n",
       "      <th>tarte</th>\n",
       "      <td>2</td>\n",
       "      <td>101</td>\n",
       "      <td>67</td>\n",
       "      <td>170</td>\n",
       "    </tr>\n",
       "    <tr>\n",
       "      <th>trèStiQue</th>\n",
       "      <td>0</td>\n",
       "      <td>4</td>\n",
       "      <td>0</td>\n",
       "      <td>4</td>\n",
       "    </tr>\n",
       "    <tr>\n",
       "      <th>All</th>\n",
       "      <td>845</td>\n",
       "      <td>2681</td>\n",
       "      <td>5642</td>\n",
       "      <td>9168</td>\n",
       "    </tr>\n",
       "  </tbody>\n",
       "</table>\n",
       "<p>325 rows × 4 columns</p>\n",
       "</div>"
      ],
      "text/plain": [
       "rango_precio      alto  bajo  medio   All\n",
       "brand                                    \n",
       "8Greens              0     2      1     3\n",
       "AERIN               14     1      7    22\n",
       "ALTERNA Haircare     0     5     37    42\n",
       "AMOREPACIFIC        11     4     18    33\n",
       "Acqua Di Parma      25     0     10    35\n",
       "...                ...   ...    ...   ...\n",
       "stila                0     6      1     7\n",
       "surratt beauty       3     4     18    25\n",
       "tarte                2   101     67   170\n",
       "trèStiQue            0     4      0     4\n",
       "All                845  2681   5642  9168\n",
       "\n",
       "[325 rows x 4 columns]"
      ]
     },
     "execution_count": 5,
     "metadata": {},
     "output_type": "execute_result"
    }
   ],
   "source": [
    "df_crosstab = pd.crosstab(df['brand'], # tabla de contigencia para marca y rango de precio\n",
    "                        df['rango_precio'], margins = True) # para sacar los totales\n",
    "                         \n",
    "df_crosstab"
   ]
  },
  {
   "attachments": {},
   "cell_type": "markdown",
   "metadata": {},
   "source": [
    "Según la talbla de contigencia en el que vemos el rango de precio por marca deducimos que la tienda está enfocada a la venta de productosd de gama media."
   ]
  },
  {
   "attachments": {},
   "cell_type": "markdown",
   "metadata": {},
   "source": [
    "- Coeficiente de correlación de las variables numéricas del dataset."
   ]
  },
  {
   "cell_type": "code",
   "execution_count": 6,
   "metadata": {},
   "outputs": [
    {
     "name": "stderr",
     "output_type": "stream",
     "text": [
      "/tmp/ipykernel_2720/2499073615.py:1: FutureWarning: The default value of numeric_only in DataFrame.corr is deprecated. In a future version, it will default to False. Select only valid columns or specify the value of numeric_only to silence this warning.\n",
      "  correlacion = df.corr()\n"
     ]
    },
    {
     "data": {
      "text/html": [
       "<div>\n",
       "<style scoped>\n",
       "    .dataframe tbody tr th:only-of-type {\n",
       "        vertical-align: middle;\n",
       "    }\n",
       "\n",
       "    .dataframe tbody tr th {\n",
       "        vertical-align: top;\n",
       "    }\n",
       "\n",
       "    .dataframe thead th {\n",
       "        text-align: right;\n",
       "    }\n",
       "</style>\n",
       "<table border=\"1\" class=\"dataframe\">\n",
       "  <thead>\n",
       "    <tr style=\"text-align: right;\">\n",
       "      <th></th>\n",
       "      <th>id</th>\n",
       "      <th>rating</th>\n",
       "      <th>number_of_reviews</th>\n",
       "      <th>love</th>\n",
       "      <th>price</th>\n",
       "      <th>value_price</th>\n",
       "      <th>MarketingFlags</th>\n",
       "      <th>online_only</th>\n",
       "      <th>exclusive</th>\n",
       "      <th>limited_edition</th>\n",
       "      <th>limited_time_offer</th>\n",
       "    </tr>\n",
       "  </thead>\n",
       "  <tbody>\n",
       "    <tr>\n",
       "      <th>id</th>\n",
       "      <td>1.000000</td>\n",
       "      <td>-0.176684</td>\n",
       "      <td>-0.175482</td>\n",
       "      <td>-0.104208</td>\n",
       "      <td>-0.026661</td>\n",
       "      <td>-0.004168</td>\n",
       "      <td>0.283722</td>\n",
       "      <td>0.153745</td>\n",
       "      <td>0.199285</td>\n",
       "      <td>0.200357</td>\n",
       "      <td>-0.008607</td>\n",
       "    </tr>\n",
       "    <tr>\n",
       "      <th>rating</th>\n",
       "      <td>-0.176684</td>\n",
       "      <td>1.000000</td>\n",
       "      <td>0.081478</td>\n",
       "      <td>0.094788</td>\n",
       "      <td>0.019559</td>\n",
       "      <td>0.001941</td>\n",
       "      <td>-0.108410</td>\n",
       "      <td>-0.123342</td>\n",
       "      <td>-0.001908</td>\n",
       "      <td>-0.130471</td>\n",
       "      <td>0.006164</td>\n",
       "    </tr>\n",
       "    <tr>\n",
       "      <th>number_of_reviews</th>\n",
       "      <td>-0.175482</td>\n",
       "      <td>0.081478</td>\n",
       "      <td>1.000000</td>\n",
       "      <td>0.746099</td>\n",
       "      <td>-0.084001</td>\n",
       "      <td>-0.088855</td>\n",
       "      <td>-0.096984</td>\n",
       "      <td>-0.137082</td>\n",
       "      <td>0.003799</td>\n",
       "      <td>-0.066661</td>\n",
       "      <td>0.000742</td>\n",
       "    </tr>\n",
       "    <tr>\n",
       "      <th>love</th>\n",
       "      <td>-0.104208</td>\n",
       "      <td>0.094788</td>\n",
       "      <td>0.746099</td>\n",
       "      <td>1.000000</td>\n",
       "      <td>-0.088724</td>\n",
       "      <td>-0.091140</td>\n",
       "      <td>-0.057228</td>\n",
       "      <td>-0.138933</td>\n",
       "      <td>0.050957</td>\n",
       "      <td>-0.046750</td>\n",
       "      <td>-0.002879</td>\n",
       "    </tr>\n",
       "    <tr>\n",
       "      <th>price</th>\n",
       "      <td>-0.026661</td>\n",
       "      <td>0.019559</td>\n",
       "      <td>-0.084001</td>\n",
       "      <td>-0.088724</td>\n",
       "      <td>1.000000</td>\n",
       "      <td>0.983357</td>\n",
       "      <td>-0.056920</td>\n",
       "      <td>0.117250</td>\n",
       "      <td>-0.178809</td>\n",
       "      <td>0.015333</td>\n",
       "      <td>-0.009679</td>\n",
       "    </tr>\n",
       "    <tr>\n",
       "      <th>value_price</th>\n",
       "      <td>-0.004168</td>\n",
       "      <td>0.001941</td>\n",
       "      <td>-0.088855</td>\n",
       "      <td>-0.091140</td>\n",
       "      <td>0.983357</td>\n",
       "      <td>1.000000</td>\n",
       "      <td>-0.028660</td>\n",
       "      <td>0.130658</td>\n",
       "      <td>-0.159005</td>\n",
       "      <td>0.079754</td>\n",
       "      <td>-0.009874</td>\n",
       "    </tr>\n",
       "    <tr>\n",
       "      <th>MarketingFlags</th>\n",
       "      <td>0.283722</td>\n",
       "      <td>-0.108410</td>\n",
       "      <td>-0.096984</td>\n",
       "      <td>-0.057228</td>\n",
       "      <td>-0.056920</td>\n",
       "      <td>-0.028660</td>\n",
       "      <td>1.000000</td>\n",
       "      <td>0.578973</td>\n",
       "      <td>0.627080</td>\n",
       "      <td>0.332344</td>\n",
       "      <td>0.018908</td>\n",
       "    </tr>\n",
       "    <tr>\n",
       "      <th>online_only</th>\n",
       "      <td>0.153745</td>\n",
       "      <td>-0.123342</td>\n",
       "      <td>-0.137082</td>\n",
       "      <td>-0.138933</td>\n",
       "      <td>0.117250</td>\n",
       "      <td>0.130658</td>\n",
       "      <td>0.578973</td>\n",
       "      <td>1.000000</td>\n",
       "      <td>-0.077543</td>\n",
       "      <td>0.097353</td>\n",
       "      <td>-0.010023</td>\n",
       "    </tr>\n",
       "    <tr>\n",
       "      <th>exclusive</th>\n",
       "      <td>0.199285</td>\n",
       "      <td>-0.001908</td>\n",
       "      <td>0.003799</td>\n",
       "      <td>0.050957</td>\n",
       "      <td>-0.178809</td>\n",
       "      <td>-0.159005</td>\n",
       "      <td>0.627080</td>\n",
       "      <td>-0.077543</td>\n",
       "      <td>1.000000</td>\n",
       "      <td>0.166162</td>\n",
       "      <td>0.002814</td>\n",
       "    </tr>\n",
       "    <tr>\n",
       "      <th>limited_edition</th>\n",
       "      <td>0.200357</td>\n",
       "      <td>-0.130471</td>\n",
       "      <td>-0.066661</td>\n",
       "      <td>-0.046750</td>\n",
       "      <td>0.015333</td>\n",
       "      <td>0.079754</td>\n",
       "      <td>0.332344</td>\n",
       "      <td>0.097353</td>\n",
       "      <td>0.166162</td>\n",
       "      <td>1.000000</td>\n",
       "      <td>0.015129</td>\n",
       "    </tr>\n",
       "    <tr>\n",
       "      <th>limited_time_offer</th>\n",
       "      <td>-0.008607</td>\n",
       "      <td>0.006164</td>\n",
       "      <td>0.000742</td>\n",
       "      <td>-0.002879</td>\n",
       "      <td>-0.009679</td>\n",
       "      <td>-0.009874</td>\n",
       "      <td>0.018908</td>\n",
       "      <td>-0.010023</td>\n",
       "      <td>0.002814</td>\n",
       "      <td>0.015129</td>\n",
       "      <td>1.000000</td>\n",
       "    </tr>\n",
       "  </tbody>\n",
       "</table>\n",
       "</div>"
      ],
      "text/plain": [
       "                          id    rating  number_of_reviews      love     price  \\\n",
       "id                  1.000000 -0.176684          -0.175482 -0.104208 -0.026661   \n",
       "rating             -0.176684  1.000000           0.081478  0.094788  0.019559   \n",
       "number_of_reviews  -0.175482  0.081478           1.000000  0.746099 -0.084001   \n",
       "love               -0.104208  0.094788           0.746099  1.000000 -0.088724   \n",
       "price              -0.026661  0.019559          -0.084001 -0.088724  1.000000   \n",
       "value_price        -0.004168  0.001941          -0.088855 -0.091140  0.983357   \n",
       "MarketingFlags      0.283722 -0.108410          -0.096984 -0.057228 -0.056920   \n",
       "online_only         0.153745 -0.123342          -0.137082 -0.138933  0.117250   \n",
       "exclusive           0.199285 -0.001908           0.003799  0.050957 -0.178809   \n",
       "limited_edition     0.200357 -0.130471          -0.066661 -0.046750  0.015333   \n",
       "limited_time_offer -0.008607  0.006164           0.000742 -0.002879 -0.009679   \n",
       "\n",
       "                    value_price  MarketingFlags  online_only  exclusive  \\\n",
       "id                    -0.004168        0.283722     0.153745   0.199285   \n",
       "rating                 0.001941       -0.108410    -0.123342  -0.001908   \n",
       "number_of_reviews     -0.088855       -0.096984    -0.137082   0.003799   \n",
       "love                  -0.091140       -0.057228    -0.138933   0.050957   \n",
       "price                  0.983357       -0.056920     0.117250  -0.178809   \n",
       "value_price            1.000000       -0.028660     0.130658  -0.159005   \n",
       "MarketingFlags        -0.028660        1.000000     0.578973   0.627080   \n",
       "online_only            0.130658        0.578973     1.000000  -0.077543   \n",
       "exclusive             -0.159005        0.627080    -0.077543   1.000000   \n",
       "limited_edition        0.079754        0.332344     0.097353   0.166162   \n",
       "limited_time_offer    -0.009874        0.018908    -0.010023   0.002814   \n",
       "\n",
       "                    limited_edition  limited_time_offer  \n",
       "id                         0.200357           -0.008607  \n",
       "rating                    -0.130471            0.006164  \n",
       "number_of_reviews         -0.066661            0.000742  \n",
       "love                      -0.046750           -0.002879  \n",
       "price                      0.015333           -0.009679  \n",
       "value_price                0.079754           -0.009874  \n",
       "MarketingFlags             0.332344            0.018908  \n",
       "online_only                0.097353           -0.010023  \n",
       "exclusive                  0.166162            0.002814  \n",
       "limited_edition            1.000000            0.015129  \n",
       "limited_time_offer         0.015129            1.000000  "
      ]
     },
     "execution_count": 6,
     "metadata": {},
     "output_type": "execute_result"
    }
   ],
   "source": [
    "correlacion = df.corr()\n",
    "correlacion"
   ]
  },
  {
   "cell_type": "code",
   "execution_count": 7,
   "metadata": {},
   "outputs": [
    {
     "name": "stderr",
     "output_type": "stream",
     "text": [
      "/tmp/ipykernel_2720/410236075.py:3: FutureWarning: The default value of numeric_only in DataFrame.corr is deprecated. In a future version, it will default to False. Select only valid columns or specify the value of numeric_only to silence this warning.\n",
      "  sns.heatmap(df.corr(),\n"
     ]
    },
    {
     "data": {
      "image/png": "[encoded data removed]",
      "text/plain": [
       "<Figure size 720x720 with 2 Axes>"
      ]
     },
     "metadata": {
      "needs_background": "light"
     },
     "output_type": "display_data"
    }
   ],
   "source": [
    "\n",
    "plt.figure(figsize = (10,10))\n",
    "\n",
    "sns.heatmap(df.corr(),\n",
    "            cmap = \"PiYG\", \n",
    "            annot = True,\n",
    "            vmin = -1, # establecemos el valor mínimo de la escala de color\n",
    "            vmax = 1 # establecemos el valor máximo de la escala de color\n",
    ");"
   ]
  },
  {
   "attachments": {},
   "cell_type": "markdown",
   "metadata": {},
   "source": [
    "- Sesgos de alguna de las variables numéricas del dataset."
   ]
  },
  {
   "cell_type": "code",
   "execution_count": 8,
   "metadata": {},
   "outputs": [
    {
     "name": "stdout",
     "output_type": "stream",
     "text": [
      "El valor del sesgo para la variable price es: 3.1722892366379725\n"
     ]
    }
   ],
   "source": [
    "sesgo_precio = skew(df['price']) # sesgo para la variable precio\n",
    "print(f\"El valor del sesgo para la variable price es: {sesgo_precio}\")"
   ]
  },
  {
   "cell_type": "code",
   "execution_count": 9,
   "metadata": {},
   "outputs": [
    {
     "data": {
      "image/png": "[encoded data removed]",
      "text/plain": [
       "<Figure size 360x360 with 1 Axes>"
      ]
     },
     "metadata": {
      "needs_background": "light"
     },
     "output_type": "display_data"
    }
   ],
   "source": [
    "sns.displot(df[\"price\"], \n",
    "            color = \"blue\", \n",
    "            kde = True);"
   ]
  },
  {
   "cell_type": "code",
   "execution_count": 10,
   "metadata": {},
   "outputs": [
    {
     "name": "stdout",
     "output_type": "stream",
     "text": [
      "El valor del sesgo para la variable price es: -2.7388296991585395\n"
     ]
    }
   ],
   "source": [
    "sesgo_rating= skew(df['rating']) #sesgo para la variable rating\n",
    "print(f\"El valor del sesgo para la variable price es: {sesgo_rating}\")"
   ]
  },
  {
   "cell_type": "code",
   "execution_count": 11,
   "metadata": {},
   "outputs": [
    {
     "data": {
      "image/png": "[encoded data removed]",
      "text/plain": [
       "<Figure size 360x360 with 1 Axes>"
      ]
     },
     "metadata": {
      "needs_background": "light"
     },
     "output_type": "display_data"
    }
   ],
   "source": [
    "sns.displot(df[\"rating\"], \n",
    "            color = \"red\", \n",
    "            kde = True);"
   ]
  },
  {
   "attachments": {},
   "cell_type": "markdown",
   "metadata": {},
   "source": [
    "- Intervalo de confianza de algunas de las variables numéricas del datase\n"
   ]
  },
  {
   "cell_type": "code",
   "execution_count": 12,
   "metadata": {},
   "outputs": [
    {
     "name": "stdout",
     "output_type": "stream",
     "text": [
      "(50.81104626819612, 52.83613305117561)\n",
      "51.823589659685865\n"
     ]
    }
   ],
   "source": [
    "datos_valor = df['value_price']#Intervalo de confianza para value_price al 95 %\n",
    "print(st.t.interval(alpha=0.95, df=len(datos_valor)-1, loc=np.mean(datos_valor), scale=st.sem(datos_valor)))\n",
    "print(np.mean(datos_valor))"
   ]
  },
  {
   "cell_type": "code",
   "execution_count": 13,
   "metadata": {},
   "outputs": [
    {
     "name": "stdout",
     "output_type": "stream",
     "text": [
      "(3.972706808573262, 4.007332458442445)\n",
      "3.9900196335078535\n"
     ]
    }
   ],
   "source": [
    "datos_rating = df['rating'] #Intervalo de confianza para rating al 90%\n",
    "print(st.t.interval(alpha=0.90, df=len(datos_rating)-1, loc=np.mean(datos_rating), scale=st.sem(datos_rating)))\n",
    "print(np.mean(datos_rating))"
   ]
  },
  {
   "cell_type": "markdown",
   "metadata": {},
   "source": []
  },
  {
   "attachments": {},
   "cell_type": "markdown",
   "metadata": {},
   "source": [
    "2. Interpretación de los resultados.\n",
    "\n",
    "- Ahora interpreta los resultados obtenidos de los diferentes estadísticos estudiados haciendo hincapié en aspectos interesantes de tus datos y explica lo mejor posible la naturaleza de los mismos."
   ]
  }
 ],
 "metadata": {
  "kernelspec": {
   "display_name": "base",
   "language": "python",
   "name": "python3"
  },
  "language_info": {
   "codemirror_mode": {
    "name": "ipython",
    "version": 3
   },
   "file_extension": ".py",
   "mimetype": "text/x-python",
   "name": "python",
   "nbconvert_exporter": "python",
   "pygments_lexer": "ipython3",
   "version": "3.9.7"
  },
  "orig_nbformat": 4,
  "vscode": {
   "interpreter": {
    "hash": "4b1ecc98482ac3f78e7638a36d488665c227c7cb0420745d3c03f1c165a0d66a"
   }
  }
 },
 "nbformat": 4,
 "nbformat_minor": 2
}
