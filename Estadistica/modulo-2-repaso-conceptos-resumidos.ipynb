{
 "cells": [
  {
   "attachments": {},
   "cell_type": "markdown",
   "metadata": {},
   "source": [
    "- Hacer una exploración inicial del dataframe.\n",
    "\n",
    "    - ¿Cuántas filas tiene?\n",
    "\n",
    "    - ¿Cuántas nulos tiene?\n",
    "\n",
    "    - ¿Y duplicados?\n",
    "\n",
    "    - ¿Qué tipo de datos tenemos en el dataframe?etc.\n",
    "\n",
    "\n",
    "- Plantead una serie de preguntas como las que fuimos contestando en la clase invertida.\n",
    "\n",
    "- Contestad a las preguntas planteadas usando los principales estadísticos que hemos aprendido y gráficas que mejor se ajusten.\n"
   ]
  },
  {
   "cell_type": "code",
   "execution_count": 2,
   "metadata": {},
   "outputs": [],
   "source": [
    "import pandas as pd \n",
    "import seaborn as sns\n",
    "import numpy as np\n",
    "from scipy.stats import skew\n",
    "import scipy.stats as st\n",
    "import matplotlib.pyplot as plt"
   ]
  },
  {
   "cell_type": "code",
   "execution_count": 3,
   "metadata": {},
   "outputs": [],
   "source": [
    "df = pd.read_csv('imdb_top_1000.csv') "
   ]
  },
  {
   "cell_type": "code",
   "execution_count": 4,
   "metadata": {},
   "outputs": [
    {
     "data": {
      "text/html": [
       "<div>\n",
       "<style scoped>\n",
       "    .dataframe tbody tr th:only-of-type {\n",
       "        vertical-align: middle;\n",
       "    }\n",
       "\n",
       "    .dataframe tbody tr th {\n",
       "        vertical-align: top;\n",
       "    }\n",
       "\n",
       "    .dataframe thead th {\n",
       "        text-align: right;\n",
       "    }\n",
       "</style>\n",
       "<table border=\"1\" class=\"dataframe\">\n",
       "  <thead>\n",
       "    <tr style=\"text-align: right;\">\n",
       "      <th></th>\n",
       "      <th>Poster_Link</th>\n",
       "      <th>Series_Title</th>\n",
       "      <th>Released_Year</th>\n",
       "      <th>Certificate</th>\n",
       "      <th>Runtime</th>\n",
       "      <th>Genre</th>\n",
       "      <th>IMDB_Rating</th>\n",
       "      <th>Overview</th>\n",
       "      <th>Meta_score</th>\n",
       "      <th>Director</th>\n",
       "      <th>Star1</th>\n",
       "      <th>Star2</th>\n",
       "      <th>Star3</th>\n",
       "      <th>Star4</th>\n",
       "      <th>No_of_Votes</th>\n",
       "      <th>Gross</th>\n",
       "    </tr>\n",
       "  </thead>\n",
       "  <tbody>\n",
       "    <tr>\n",
       "      <th>0</th>\n",
       "      <td>https://m.media-amazon.com/images/M/MV5BMDFkYT...</td>\n",
       "      <td>The Shawshank Redemption</td>\n",
       "      <td>1994</td>\n",
       "      <td>A</td>\n",
       "      <td>142 min</td>\n",
       "      <td>Drama</td>\n",
       "      <td>9.3</td>\n",
       "      <td>Two imprisoned men bond over a number of years...</td>\n",
       "      <td>80.0</td>\n",
       "      <td>Frank Darabont</td>\n",
       "      <td>Tim Robbins</td>\n",
       "      <td>Morgan Freeman</td>\n",
       "      <td>Bob Gunton</td>\n",
       "      <td>William Sadler</td>\n",
       "      <td>2343110</td>\n",
       "      <td>28,341,469</td>\n",
       "    </tr>\n",
       "    <tr>\n",
       "      <th>1</th>\n",
       "      <td>https://m.media-amazon.com/images/M/MV5BM2MyNj...</td>\n",
       "      <td>The Godfather</td>\n",
       "      <td>1972</td>\n",
       "      <td>A</td>\n",
       "      <td>175 min</td>\n",
       "      <td>Crime, Drama</td>\n",
       "      <td>9.2</td>\n",
       "      <td>An organized crime dynasty's aging patriarch t...</td>\n",
       "      <td>100.0</td>\n",
       "      <td>Francis Ford Coppola</td>\n",
       "      <td>Marlon Brando</td>\n",
       "      <td>Al Pacino</td>\n",
       "      <td>James Caan</td>\n",
       "      <td>Diane Keaton</td>\n",
       "      <td>1620367</td>\n",
       "      <td>134,966,411</td>\n",
       "    </tr>\n",
       "  </tbody>\n",
       "</table>\n",
       "</div>"
      ],
      "text/plain": [
       "                                         Poster_Link  \\\n",
       "0  https://m.media-amazon.com/images/M/MV5BMDFkYT...   \n",
       "1  https://m.media-amazon.com/images/M/MV5BM2MyNj...   \n",
       "\n",
       "               Series_Title Released_Year Certificate  Runtime         Genre  \\\n",
       "0  The Shawshank Redemption          1994           A  142 min         Drama   \n",
       "1             The Godfather          1972           A  175 min  Crime, Drama   \n",
       "\n",
       "   IMDB_Rating                                           Overview  Meta_score  \\\n",
       "0          9.3  Two imprisoned men bond over a number of years...        80.0   \n",
       "1          9.2  An organized crime dynasty's aging patriarch t...       100.0   \n",
       "\n",
       "               Director          Star1           Star2       Star3  \\\n",
       "0        Frank Darabont    Tim Robbins  Morgan Freeman  Bob Gunton   \n",
       "1  Francis Ford Coppola  Marlon Brando       Al Pacino  James Caan   \n",
       "\n",
       "            Star4  No_of_Votes        Gross  \n",
       "0  William Sadler      2343110   28,341,469  \n",
       "1    Diane Keaton      1620367  134,966,411  "
      ]
     },
     "execution_count": 4,
     "metadata": {},
     "output_type": "execute_result"
    }
   ],
   "source": [
    "df.head(2)"
   ]
  },
  {
   "cell_type": "code",
   "execution_count": 5,
   "metadata": {},
   "outputs": [
    {
     "name": "stdout",
     "output_type": "stream",
     "text": [
      "<class 'pandas.core.frame.DataFrame'>\n",
      "RangeIndex: 1000 entries, 0 to 999\n",
      "Data columns (total 16 columns):\n",
      " #   Column         Non-Null Count  Dtype  \n",
      "---  ------         --------------  -----  \n",
      " 0   Poster_Link    1000 non-null   object \n",
      " 1   Series_Title   1000 non-null   object \n",
      " 2   Released_Year  1000 non-null   object \n",
      " 3   Certificate    899 non-null    object \n",
      " 4   Runtime        1000 non-null   object \n",
      " 5   Genre          1000 non-null   object \n",
      " 6   IMDB_Rating    1000 non-null   float64\n",
      " 7   Overview       1000 non-null   object \n",
      " 8   Meta_score     843 non-null    float64\n",
      " 9   Director       1000 non-null   object \n",
      " 10  Star1          1000 non-null   object \n",
      " 11  Star2          1000 non-null   object \n",
      " 12  Star3          1000 non-null   object \n",
      " 13  Star4          1000 non-null   object \n",
      " 14  No_of_Votes    1000 non-null   int64  \n",
      " 15  Gross          831 non-null    object \n",
      "dtypes: float64(2), int64(1), object(13)\n",
      "memory usage: 125.1+ KB\n"
     ]
    }
   ],
   "source": [
    "df.info() # sacamos la información pricipal: tipo de datos, columnas, nulos"
   ]
  },
  {
   "cell_type": "code",
   "execution_count": 6,
   "metadata": {},
   "outputs": [],
   "source": [
    "columnas_nuevas = {col:col.lower() for col in df.columns} # renombramos las columnas\n",
    "df.rename(columns=columnas_nuevas, inplace= True)"
   ]
  },
  {
   "cell_type": "code",
   "execution_count": 7,
   "metadata": {},
   "outputs": [
    {
     "name": "stdout",
     "output_type": "stream",
     "text": [
      "El DataFrame tiene 16000 filas\n"
     ]
    }
   ],
   "source": [
    "print(f'El DataFrame tiene {df.size } filas') "
   ]
  },
  {
   "cell_type": "code",
   "execution_count": 8,
   "metadata": {},
   "outputs": [
    {
     "name": "stdout",
     "output_type": "stream",
     "text": [
      "El DataFrame tiene 0 duplicados\n"
     ]
    }
   ],
   "source": [
    "print(f'El DataFrame tiene {df.duplicated().sum() } duplicados') "
   ]
  },
  {
   "attachments": {},
   "cell_type": "markdown",
   "metadata": {},
   "source": [
    "Preguntas: \n",
    "\n",
    "    - En qué año se han estrenado más películas?\n",
    "\n",
    "    - Películas con mejor y peor valoración \n",
    "\n",
    "    - Valoración media de las películas comedia\n",
    "\n",
    "    - Película más valorada de la actriz Audrey Hepburn\n",
    "\n",
    "    - Relación de la películas entre la valoración y la recaudación\n",
    "\n",
    "    \n",
    "    "
   ]
  },
  {
   "cell_type": "markdown",
   "metadata": {},
   "source": [
    "- En qué año se han estrenado más películas?"
   ]
  },
  {
   "cell_type": "code",
   "execution_count": 9,
   "metadata": {},
   "outputs": [
    {
     "name": "stdout",
     "output_type": "stream",
     "text": [
      "En el 2014 se estrenaron más películas\n"
     ]
    }
   ],
   "source": [
    "año = df['released_year'].mode()[0]\n",
    "print( f'En el {año} se estrenaron más películas')"
   ]
  },
  {
   "attachments": {},
   "cell_type": "markdown",
   "metadata": {},
   "source": [
    "- Películas con mejor y peor valoración "
   ]
  },
  {
   "cell_type": "code",
   "execution_count": 10,
   "metadata": {},
   "outputs": [
    {
     "name": "stdout",
     "output_type": "stream",
     "text": [
      "La mejor película es The Shawshank Redemption con una puntuacion de 9.3\n"
     ]
    }
   ],
   "source": [
    "mejor_rating = df['imdb_rating'].max()\n",
    "mejor_pelicula = df[df['imdb_rating']==mejor_rating]['series_title'][0]\n",
    "print(f'La mejor película es {mejor_pelicula} con una puntuacion de {mejor_rating}')"
   ]
  },
  {
   "cell_type": "code",
   "execution_count": 11,
   "metadata": {},
   "outputs": [
    {
     "name": "stdout",
     "output_type": "stream",
     "text": [
      "Las películas peor valoradas tienen  una puntuacion de 7.6\n"
     ]
    }
   ],
   "source": [
    "peor_rating = df['imdb_rating'].min()\n",
    "print(f'Las películas peor valoradas tienen  una puntuacion de {peor_rating}')"
   ]
  },
  {
   "attachments": {},
   "cell_type": "markdown",
   "metadata": {},
   "source": [
    " - Valoración media de las películas comedia"
   ]
  },
  {
   "cell_type": "code",
   "execution_count": 12,
   "metadata": {},
   "outputs": [
    {
     "name": "stdout",
     "output_type": "stream",
     "text": [
      " La media de las peliculas de género comedia es: 7.823076923076924, la mediana es 7.7 y la moda es 7.7\n"
     ]
    }
   ],
   "source": [
    "comedia= df[df['genre']=='Comedy']\n",
    "media_comedia = comedia['imdb_rating'].mean()\n",
    "mediana_comedia = comedia['imdb_rating'].median()\n",
    "moda_comedia = comedia['imdb_rating'].mode()[0]\n",
    "print(f' La media de las peliculas de género comedia es: {media_comedia}, la mediana es {mediana_comedia} y la moda es {moda_comedia}')"
   ]
  },
  {
   "attachments": {},
   "cell_type": "markdown",
   "metadata": {},
   "source": [
    "Deducimos de estas métricas que las películas de género comedia no están muy bien valoradas por la Web, ya que su la media su valoración está cerca de la puntuación más baja de todo el conjunto de datos."
   ]
  },
  {
   "attachments": {},
   "cell_type": "markdown",
   "metadata": {},
   "source": [
    "- Película más valorada de la actriz Audrey Hepburn"
   ]
  },
  {
   "cell_type": "code",
   "execution_count": 13,
   "metadata": {},
   "outputs": [
    {
     "data": {
      "text/html": [
       "<div>\n",
       "<style scoped>\n",
       "    .dataframe tbody tr th:only-of-type {\n",
       "        vertical-align: middle;\n",
       "    }\n",
       "\n",
       "    .dataframe tbody tr th {\n",
       "        vertical-align: top;\n",
       "    }\n",
       "\n",
       "    .dataframe thead th {\n",
       "        text-align: right;\n",
       "    }\n",
       "</style>\n",
       "<table border=\"1\" class=\"dataframe\">\n",
       "  <thead>\n",
       "    <tr style=\"text-align: right;\">\n",
       "      <th></th>\n",
       "      <th>poster_link</th>\n",
       "      <th>series_title</th>\n",
       "      <th>released_year</th>\n",
       "      <th>certificate</th>\n",
       "      <th>runtime</th>\n",
       "      <th>genre</th>\n",
       "      <th>imdb_rating</th>\n",
       "      <th>overview</th>\n",
       "      <th>meta_score</th>\n",
       "      <th>director</th>\n",
       "      <th>star1</th>\n",
       "      <th>star2</th>\n",
       "      <th>star3</th>\n",
       "      <th>star4</th>\n",
       "      <th>no_of_votes</th>\n",
       "      <th>gross</th>\n",
       "    </tr>\n",
       "  </thead>\n",
       "  <tbody>\n",
       "    <tr>\n",
       "      <th>700</th>\n",
       "      <td>https://m.media-amazon.com/images/M/MV5BMTQyNT...</td>\n",
       "      <td>Wait Until Dark</td>\n",
       "      <td>1967</td>\n",
       "      <td>NaN</td>\n",
       "      <td>108 min</td>\n",
       "      <td>Thriller</td>\n",
       "      <td>7.8</td>\n",
       "      <td>A recently blinded woman is terrorized by a tr...</td>\n",
       "      <td>81.0</td>\n",
       "      <td>Terence Young</td>\n",
       "      <td>Audrey Hepburn</td>\n",
       "      <td>Alan Arkin</td>\n",
       "      <td>Richard Crenna</td>\n",
       "      <td>Efrem Zimbalist Jr.</td>\n",
       "      <td>27733</td>\n",
       "      <td>17,550,741</td>\n",
       "    </tr>\n",
       "    <tr>\n",
       "      <th>703</th>\n",
       "      <td>https://m.media-amazon.com/images/M/MV5BNGM0ZT...</td>\n",
       "      <td>My Fair Lady</td>\n",
       "      <td>1964</td>\n",
       "      <td>U</td>\n",
       "      <td>170 min</td>\n",
       "      <td>Drama, Family, Musical</td>\n",
       "      <td>7.8</td>\n",
       "      <td>Snobbish phonetics Professor Henry Higgins agr...</td>\n",
       "      <td>95.0</td>\n",
       "      <td>George Cukor</td>\n",
       "      <td>Audrey Hepburn</td>\n",
       "      <td>Rex Harrison</td>\n",
       "      <td>Stanley Holloway</td>\n",
       "      <td>Wilfrid Hyde-White</td>\n",
       "      <td>86525</td>\n",
       "      <td>72,000,000</td>\n",
       "    </tr>\n",
       "    <tr>\n",
       "      <th>995</th>\n",
       "      <td>https://m.media-amazon.com/images/M/MV5BNGEwMT...</td>\n",
       "      <td>Breakfast at Tiffany's</td>\n",
       "      <td>1961</td>\n",
       "      <td>A</td>\n",
       "      <td>115 min</td>\n",
       "      <td>Comedy, Drama, Romance</td>\n",
       "      <td>7.6</td>\n",
       "      <td>A young New York socialite becomes interested ...</td>\n",
       "      <td>76.0</td>\n",
       "      <td>Blake Edwards</td>\n",
       "      <td>Audrey Hepburn</td>\n",
       "      <td>George Peppard</td>\n",
       "      <td>Patricia Neal</td>\n",
       "      <td>Buddy Ebsen</td>\n",
       "      <td>166544</td>\n",
       "      <td>NaN</td>\n",
       "    </tr>\n",
       "  </tbody>\n",
       "</table>\n",
       "</div>"
      ],
      "text/plain": [
       "                                           poster_link  \\\n",
       "700  https://m.media-amazon.com/images/M/MV5BMTQyNT...   \n",
       "703  https://m.media-amazon.com/images/M/MV5BNGM0ZT...   \n",
       "995  https://m.media-amazon.com/images/M/MV5BNGEwMT...   \n",
       "\n",
       "               series_title released_year certificate  runtime  \\\n",
       "700         Wait Until Dark          1967         NaN  108 min   \n",
       "703            My Fair Lady          1964           U  170 min   \n",
       "995  Breakfast at Tiffany's          1961           A  115 min   \n",
       "\n",
       "                      genre  imdb_rating  \\\n",
       "700                Thriller          7.8   \n",
       "703  Drama, Family, Musical          7.8   \n",
       "995  Comedy, Drama, Romance          7.6   \n",
       "\n",
       "                                              overview  meta_score  \\\n",
       "700  A recently blinded woman is terrorized by a tr...        81.0   \n",
       "703  Snobbish phonetics Professor Henry Higgins agr...        95.0   \n",
       "995  A young New York socialite becomes interested ...        76.0   \n",
       "\n",
       "          director           star1           star2             star3  \\\n",
       "700  Terence Young  Audrey Hepburn      Alan Arkin    Richard Crenna   \n",
       "703   George Cukor  Audrey Hepburn    Rex Harrison  Stanley Holloway   \n",
       "995  Blake Edwards  Audrey Hepburn  George Peppard     Patricia Neal   \n",
       "\n",
       "                   star4  no_of_votes       gross  \n",
       "700  Efrem Zimbalist Jr.        27733  17,550,741  \n",
       "703   Wilfrid Hyde-White        86525  72,000,000  \n",
       "995          Buddy Ebsen       166544         NaN  "
      ]
     },
     "execution_count": 13,
     "metadata": {},
     "output_type": "execute_result"
    }
   ],
   "source": [
    "peliculas_Hepburn = df[df['star1'] =='Audrey Hepburn']\n",
    "peliculas_Hepburn"
   ]
  },
  {
   "cell_type": "code",
   "execution_count": 14,
   "metadata": {},
   "outputs": [
    {
     "name": "stdout",
     "output_type": "stream",
     "text": [
      "Las película de Haudrey Hepburn más votada es Breakfast at Tiffany's\n"
     ]
    }
   ],
   "source": [
    "pelicula_mas_votada = peliculas_Hepburn['no_of_votes'].max()\n",
    "mejor_pelicula =peliculas_Hepburn [peliculas_Hepburn['no_of_votes']==pelicula_mas_votada]['series_title']\n",
    "print(f'Las película de Haudrey Hepburn más votada es {mejor_pelicula.values[0]}')"
   ]
  },
  {
   "attachments": {},
   "cell_type": "markdown",
   "metadata": {},
   "source": [
    "Esta película es la más votada, pensamos por ser la más famosa y no por ello tiene que ser la mejor valorada por los expertos"
   ]
  },
  {
   "attachments": {},
   "cell_type": "markdown",
   "metadata": {},
   "source": [
    "- Relación de la películas entre la valoración y la recaudación"
   ]
  },
  {
   "cell_type": "code",
   "execution_count": 15,
   "metadata": {},
   "outputs": [],
   "source": [
    "# Cambiamos el tipo de dato a 'gross' para que sea variabe numérica\n",
    "def cambiar_dato(col):  \n",
    "    try :\n",
    "        col = col.replace(',','')\n",
    "        col = float(col)\n",
    "    except:\n",
    "        pass\n",
    "    return col"
   ]
  },
  {
   "cell_type": "code",
   "execution_count": 16,
   "metadata": {},
   "outputs": [],
   "source": [
    "df['gross'] = df['gross'].apply(cambiar_dato)"
   ]
  },
  {
   "cell_type": "code",
   "execution_count": 18,
   "metadata": {},
   "outputs": [
    {
     "name": "stderr",
     "output_type": "stream",
     "text": [
      "/tmp/ipykernel_1883/673275831.py:5: FutureWarning: The default value of numeric_only in DataFrame.corr is deprecated. In a future version, it will default to False. Select only valid columns or specify the value of numeric_only to silence this warning.\n",
      "  sns.heatmap(df.corr(),\n"
     ]
    },
    {
     "data": {
      "image/png": "[encoded data removed]",
      "text/plain": [
       "<Figure size 1080x720 with 2 Axes>"
      ]
     },
     "metadata": {
      "needs_background": "light"
     },
     "output_type": "display_data"
    }
   ],
   "source": [
    "# Realizamos un heatmap para comprobar la correlación \n",
    "import seaborn as sns\n",
    "import matplotlib.pyplot as plt\n",
    "plt.figure(figsize = (15,10))\n",
    "\n",
    "sns.heatmap(df.corr(), \n",
    "            cmap = \"BuPu\", \n",
    "            annot = True, \n",
    "            vmin = -1, \n",
    "            vmax = 1 \n",
    ");"
   ]
  },
  {
   "attachments": {},
   "cell_type": "markdown",
   "metadata": {},
   "source": [
    "Tratamos de buscar relación entre la recaudación y la valoración. Según el heatmap no hay correlación entre estas variables."
   ]
  },
  {
   "cell_type": "code",
   "execution_count": 32,
   "metadata": {},
   "outputs": [
    {
     "data": {
      "image/png": "[encoded data removed]",
      "text/plain": [
       "<Figure size 720x288 with 1 Axes>"
      ]
     },
     "metadata": {
      "needs_background": "light"
     },
     "output_type": "display_data"
    }
   ],
   "source": [
    "#Definimos la función año para cambiar a integer los valores de la columna released_year\n",
    "\n",
    "def año(col): \n",
    "    try:\n",
    "        col = int(col)\n",
    "        return col\n",
    "    except:\n",
    "        return col\n",
    "\n",
    "#Aplicamos la función\n",
    "\n",
    "df['released_year'] = df['released_year'].apply(año) \n",
    "\n",
    " # Filtramos el df quitando el valor cuyo año es 'PG' para que no de error al crear el scatterplot\n",
    " \n",
    "df_scatterplot = df[df['released_year']!='PG']\n",
    "\n",
    "plt.figure(figsize =(10,4))\n",
    "fig = sns.scatterplot(x='released_year', y = 'imdb_rating', data = df_scatterplot)\n",
    "fig.set_title('Valoración IMDB por año')\n",
    "fig.set(xlabel = 'Año', ylabel = 'Valoración IMDB')\n",
    "plt.show()"
   ]
  },
  {
   "attachments": {},
   "cell_type": "markdown",
   "metadata": {},
   "source": [
    "Tratamos de relacionar  la valoración de la web con el años de estreno de las películas. Se observa que se hay más valoraciones de películas recientes que antiguas sin influir en el criterio de valoración. No se aprecia relación entre estas dos variables.\n"
   ]
  }
 ],
 "metadata": {
  "kernelspec": {
   "display_name": "base",
   "language": "python",
   "name": "python3"
  },
  "language_info": {
   "codemirror_mode": {
    "name": "ipython",
    "version": 3
   },
   "file_extension": ".py",
   "mimetype": "text/x-python",
   "name": "python",
   "nbconvert_exporter": "python",
   "pygments_lexer": "ipython3",
   "version": "3.9.7"
  },
  "orig_nbformat": 4,
  "vscode": {
   "interpreter": {
    "hash": "4b1ecc98482ac3f78e7638a36d488665c227c7cb0420745d3c03f1c165a0d66a"
   }
  }
 },
 "nbformat": 4,
 "nbformat_minor": 2
}
